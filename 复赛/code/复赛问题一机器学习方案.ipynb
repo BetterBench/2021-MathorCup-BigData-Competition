{
 "cells": [
  {
   "cell_type": "code",
   "execution_count": 2,
   "metadata": {},
   "outputs": [
    {
     "name": "stderr",
     "output_type": "stream",
     "text": [
      "/Applications/anaconda3/lib/python3.8/site-packages/tqdm/std.py:697: FutureWarning: The Panel class is removed from pandas. Accessing it from the top-level namespace will also be removed in the next version\n",
      "  from pandas import Panel\n"
     ]
    }
   ],
   "source": [
    "import scipy.stats as st\n",
    "import pandas as pd \n",
    "import seaborn as sns\n",
    "from pylab import mpl \n",
    "import numpy as np\n",
    "import matplotlib.pyplot as plt\n",
    "from tqdm import tqdm\n",
    "tqdm.pandas()\n",
    "import warnings\n",
    "\n",
    "warnings.filterwarnings('ignore')\n",
    "# plt.rcParams['font.sans-serif'] = ['STSong']\n",
    "# mpl.rcParams['font.sans-serif'] = ['STSong'] # 指定默认字体 \n",
    "mpl.rcParams['axes.unicode_minus'] = False\n"
   ]
  },
  {
   "cell_type": "code",
   "execution_count": 3,
   "metadata": {},
   "outputs": [],
   "source": [
    "df4 = pd.read_csv('./data/file4.csv')\n",
    "\n",
    "df5 = pd.read_csv('./data/file5.csv')\n"
   ]
  },
  {
   "cell_type": "markdown",
   "metadata": {},
   "source": [
    "# 将最新的定价作为price 和提取降价次数、幅度特征"
   ]
  },
  {
   "cell_type": "code",
   "execution_count": 4,
   "metadata": {},
   "outputs": [
    {
     "name": "stderr",
     "output_type": "stream",
     "text": [
      "100%|██████████| 10000/10000 [00:00<00:00, 325510.78it/s]\n"
     ]
    }
   ],
   "source": [
    "# 将最后一次调整价格的时间，作为pushDate，最新的价格作为pushPrice\n",
    "def clear_time(txt_json):\n",
    "    if txt_json == '{}':\n",
    "        return np.nan\n",
    "    else:\n",
    "        update_time = txt_json[2:-2].split(',')[-1].split(':')[0].strip()[2:-2]\n",
    "        update_price = txt_json[2:-\n",
    "                                2].split(',')[-1].split(':')[1].strip()[2:-2]\n",
    "        barging_times = len(txt_json[2:-2].split(','))\n",
    "        new_str = update_time+','+update_price+','+str(barging_times)\n",
    "        return new_str\n",
    "# 对file4进行处理\n",
    "\n",
    "df4['updatePriceTimeJson'] = df4['updatePriceTimeJson'].progress_apply(\n",
    "    clear_time)\n",
    "sep = df4['updatePriceTimeJson'].astype(str).str.split(',', expand=True)\n",
    "df4['update_time'] = sep[0].astype(str)\n",
    "df4['update_price'] = sep[1].astype(float)\n",
    "df4['update_price'] = df4['update_price'].fillna(0)\n",
    "\n",
    "# 提取降价次数特征\n",
    "df4['barging_times'] = sep[2].astype(float)\n",
    "# 提取降价幅度特征\n",
    "df4['barging_price'] = np.nan\n",
    "for i in range(df4.shape[0]):\n",
    "    update_time = df4['update_time'][i]\n",
    "    update_price = df4['update_price'][i]\n",
    "    if update_price == 0:\n",
    "        df4['barging_price'][i] = 0\n",
    "    else:\n",
    "        df4['barging_price'][i] = df4['pushPrice'][i]-update_price\n",
    "        df4['pushDate'][i] = update_time\n",
    "        df4['pushPrice'][i] = update_price\n"
   ]
  },
  {
   "cell_type": "code",
   "execution_count": 5,
   "metadata": {},
   "outputs": [
    {
     "name": "stderr",
     "output_type": "stream",
     "text": [
      "100%|██████████| 2000/2000 [00:00<00:00, 376019.01it/s]\n"
     ]
    }
   ],
   "source": [
    "# 对file5 进行处理\n",
    "df5['updatePriceTimeJson'] = df5['updatePriceTimeJson'].progress_apply(\n",
    "    clear_time)\n",
    "sep = df5['updatePriceTimeJson'].astype(str).str.split(',', expand=True)\n",
    "df5['update_time'] = sep[0].astype(str)\n",
    "df5['update_price'] = sep[1].astype(float)\n",
    "df5['update_price'] = df5['update_price'].fillna(0)\n",
    "\n",
    "# 提取降价次数特征\n",
    "df5['barging_times'] = sep[2].astype(float)\n",
    "# 提取降价幅度特征\n",
    "df5['barging_price'] = np.nan\n",
    "for i in range(df5.shape[0]):\n",
    "    update_time = df5['update_time'][i]\n",
    "    update_price = df5['update_price'][i]\n",
    "    if update_price == 0:\n",
    "        df5['barging_price'][i] = 0\n",
    "    else:\n",
    "        df5['barging_price'][i] = df5['pushPrice'][i]-update_price\n",
    "        df5['pushDate'][i] = update_time\n",
    "        df5['pushPrice'][i] = update_price"
   ]
  },
  {
   "cell_type": "code",
   "execution_count": 6,
   "metadata": {},
   "outputs": [
    {
     "data": {
      "text/html": [
       "<div>\n",
       "<style scoped>\n",
       "    .dataframe tbody tr th:only-of-type {\n",
       "        vertical-align: middle;\n",
       "    }\n",
       "\n",
       "    .dataframe tbody tr th {\n",
       "        vertical-align: top;\n",
       "    }\n",
       "\n",
       "    .dataframe thead th {\n",
       "        text-align: right;\n",
       "    }\n",
       "</style>\n",
       "<table border=\"1\" class=\"dataframe\">\n",
       "  <thead>\n",
       "    <tr style=\"text-align: right;\">\n",
       "      <th></th>\n",
       "      <th>carid</th>\n",
       "      <th>pushDate</th>\n",
       "      <th>pushPrice</th>\n",
       "      <th>updatePriceTimeJson</th>\n",
       "      <th>update_time</th>\n",
       "      <th>update_price</th>\n",
       "      <th>barging_times</th>\n",
       "      <th>barging_price</th>\n",
       "    </tr>\n",
       "  </thead>\n",
       "  <tbody>\n",
       "    <tr>\n",
       "      <th>0</th>\n",
       "      <td>4449</td>\n",
       "      <td>2021-09-17</td>\n",
       "      <td>12.45</td>\n",
       "      <td>2021-09-17,12.45,1</td>\n",
       "      <td>2021-09-17</td>\n",
       "      <td>12.45</td>\n",
       "      <td>1.0</td>\n",
       "      <td>0.13</td>\n",
       "    </tr>\n",
       "    <tr>\n",
       "      <th>1</th>\n",
       "      <td>1184</td>\n",
       "      <td>2021-08-31</td>\n",
       "      <td>7.40</td>\n",
       "      <td>2021-08-31,7.4,1</td>\n",
       "      <td>2021-08-31</td>\n",
       "      <td>7.40</td>\n",
       "      <td>1.0</td>\n",
       "      <td>0.40</td>\n",
       "    </tr>\n",
       "    <tr>\n",
       "      <th>2</th>\n",
       "      <td>1435</td>\n",
       "      <td>2021-08-30</td>\n",
       "      <td>13.30</td>\n",
       "      <td>NaN</td>\n",
       "      <td>nan</td>\n",
       "      <td>0.00</td>\n",
       "      <td>NaN</td>\n",
       "      <td>0.00</td>\n",
       "    </tr>\n",
       "    <tr>\n",
       "      <th>3</th>\n",
       "      <td>70693</td>\n",
       "      <td>2021-08-07</td>\n",
       "      <td>5.30</td>\n",
       "      <td>NaN</td>\n",
       "      <td>nan</td>\n",
       "      <td>0.00</td>\n",
       "      <td>NaN</td>\n",
       "      <td>0.00</td>\n",
       "    </tr>\n",
       "    <tr>\n",
       "      <th>4</th>\n",
       "      <td>749</td>\n",
       "      <td>2021-08-29</td>\n",
       "      <td>6.39</td>\n",
       "      <td>2021-08-29,6.39,2</td>\n",
       "      <td>2021-08-29</td>\n",
       "      <td>6.39</td>\n",
       "      <td>2.0</td>\n",
       "      <td>1.41</td>\n",
       "    </tr>\n",
       "    <tr>\n",
       "      <th>...</th>\n",
       "      <td>...</td>\n",
       "      <td>...</td>\n",
       "      <td>...</td>\n",
       "      <td>...</td>\n",
       "      <td>...</td>\n",
       "      <td>...</td>\n",
       "      <td>...</td>\n",
       "      <td>...</td>\n",
       "    </tr>\n",
       "    <tr>\n",
       "      <th>1995</th>\n",
       "      <td>31888</td>\n",
       "      <td>2021-09-06</td>\n",
       "      <td>41.38</td>\n",
       "      <td>2021-09-06,41.38,1</td>\n",
       "      <td>2021-09-06</td>\n",
       "      <td>41.38</td>\n",
       "      <td>1.0</td>\n",
       "      <td>0.50</td>\n",
       "    </tr>\n",
       "    <tr>\n",
       "      <th>1996</th>\n",
       "      <td>21394</td>\n",
       "      <td>2021-11-18</td>\n",
       "      <td>7.18</td>\n",
       "      <td>2021-11-18,7.18,4</td>\n",
       "      <td>2021-11-18</td>\n",
       "      <td>7.18</td>\n",
       "      <td>4.0</td>\n",
       "      <td>0.70</td>\n",
       "    </tr>\n",
       "    <tr>\n",
       "      <th>1997</th>\n",
       "      <td>393</td>\n",
       "      <td>2021-08-04</td>\n",
       "      <td>3.40</td>\n",
       "      <td>NaN</td>\n",
       "      <td>nan</td>\n",
       "      <td>0.00</td>\n",
       "      <td>NaN</td>\n",
       "      <td>0.00</td>\n",
       "    </tr>\n",
       "    <tr>\n",
       "      <th>1998</th>\n",
       "      <td>1302</td>\n",
       "      <td>2021-09-19</td>\n",
       "      <td>7.00</td>\n",
       "      <td>NaN</td>\n",
       "      <td>nan</td>\n",
       "      <td>0.00</td>\n",
       "      <td>NaN</td>\n",
       "      <td>0.00</td>\n",
       "    </tr>\n",
       "    <tr>\n",
       "      <th>1999</th>\n",
       "      <td>29857</td>\n",
       "      <td>2021-10-19</td>\n",
       "      <td>3.50</td>\n",
       "      <td>NaN</td>\n",
       "      <td>nan</td>\n",
       "      <td>0.00</td>\n",
       "      <td>NaN</td>\n",
       "      <td>0.00</td>\n",
       "    </tr>\n",
       "  </tbody>\n",
       "</table>\n",
       "<p>2000 rows × 8 columns</p>\n",
       "</div>"
      ],
      "text/plain": [
       "      carid    pushDate  pushPrice updatePriceTimeJson update_time  \\\n",
       "0      4449  2021-09-17      12.45  2021-09-17,12.45,1  2021-09-17   \n",
       "1      1184  2021-08-31       7.40    2021-08-31,7.4,1  2021-08-31   \n",
       "2      1435  2021-08-30      13.30                 NaN         nan   \n",
       "3     70693  2021-08-07       5.30                 NaN         nan   \n",
       "4       749  2021-08-29       6.39   2021-08-29,6.39,2  2021-08-29   \n",
       "...     ...         ...        ...                 ...         ...   \n",
       "1995  31888  2021-09-06      41.38  2021-09-06,41.38,1  2021-09-06   \n",
       "1996  21394  2021-11-18       7.18   2021-11-18,7.18,4  2021-11-18   \n",
       "1997    393  2021-08-04       3.40                 NaN         nan   \n",
       "1998   1302  2021-09-19       7.00                 NaN         nan   \n",
       "1999  29857  2021-10-19       3.50                 NaN         nan   \n",
       "\n",
       "      update_price  barging_times  barging_price  \n",
       "0            12.45            1.0           0.13  \n",
       "1             7.40            1.0           0.40  \n",
       "2             0.00            NaN           0.00  \n",
       "3             0.00            NaN           0.00  \n",
       "4             6.39            2.0           1.41  \n",
       "...            ...            ...            ...  \n",
       "1995         41.38            1.0           0.50  \n",
       "1996          7.18            4.0           0.70  \n",
       "1997          0.00            NaN           0.00  \n",
       "1998          0.00            NaN           0.00  \n",
       "1999          0.00            NaN           0.00  \n",
       "\n",
       "[2000 rows x 8 columns]"
      ]
     },
     "execution_count": 6,
     "metadata": {},
     "output_type": "execute_result"
    }
   ],
   "source": [
    "df5"
   ]
  },
  {
   "cell_type": "markdown",
   "metadata": {},
   "source": [
    "# 1 数据预处理"
   ]
  },
  {
   "cell_type": "code",
   "execution_count": 7,
   "metadata": {},
   "outputs": [],
   "source": [
    "\n",
    "# 去除没卖出的样本\n",
    "df_trans = df4[df4.withdrawDate.notna()]\n"
   ]
  },
  {
   "cell_type": "markdown",
   "metadata": {
    "heading_collapsed": true
   },
   "source": [
    "## 1.1 计算交易周期"
   ]
  },
  {
   "cell_type": "code",
   "execution_count": 8,
   "metadata": {
    "hidden": true
   },
   "outputs": [],
   "source": [
    "df_trans['pushDate'] = pd.to_datetime(df_trans['pushDate'])\n",
    "df_trans['withdrawDate'] = pd.to_datetime(df_trans['withdrawDate'])\n",
    "trans_circle = pd.DataFrame(df_trans['withdrawDate'] - df_trans['pushDate'])\n",
    "df_trans['transcycle'] = trans_circle[0]\n",
    "# 转为整型\n",
    "sep = df_trans['transcycle'].astype(str).str.split(' ', expand=True)\n",
    "df_trans['transcycle'] = sep[0].astype(int)"
   ]
  },
  {
   "cell_type": "code",
   "execution_count": 9,
   "metadata": {},
   "outputs": [],
   "source": [
    "train_cols = ['carid','pushDate','pushPrice','update_price','barging_times','barging_price','transcycle']\n",
    "df_train = df_trans[train_cols]\n",
    "test_cols = ['carid','pushDate','pushPrice','update_price','barging_times','barging_price']\n",
    "df_test = df5[test_cols]\n"
   ]
  },
  {
   "cell_type": "code",
   "execution_count": 10,
   "metadata": {},
   "outputs": [
    {
     "data": {
      "text/plain": [
       "carid            False\n",
       "pushDate         False\n",
       "pushPrice        False\n",
       "update_price     False\n",
       "barging_times     True\n",
       "barging_price    False\n",
       "transcycle       False\n",
       "dtype: bool"
      ]
     },
     "execution_count": 10,
     "metadata": {},
     "output_type": "execute_result"
    }
   ],
   "source": [
    "df_train.isnull().any()"
   ]
  },
  {
   "cell_type": "markdown",
   "metadata": {},
   "source": [
    "## 1.5 缺失值处理"
   ]
  },
  {
   "cell_type": "code",
   "execution_count": 11,
   "metadata": {},
   "outputs": [],
   "source": [
    "# 缺失值处理\n",
    "df_train['barging_times'] = df_train['barging_times'].fillna(0)\n",
    "df_train['update_price'] = df_train['barging_times'].fillna(0)\n",
    "# 缺失值处理   \n",
    "df_test['barging_times'] = df_test['barging_times'].fillna(0)\n",
    "df_test['update_price'] = df_test['update_price'].fillna(0)\n"
   ]
  },
  {
   "cell_type": "code",
   "execution_count": 12,
   "metadata": {},
   "outputs": [
    {
     "data": {
      "text/html": [
       "<div>\n",
       "<style scoped>\n",
       "    .dataframe tbody tr th:only-of-type {\n",
       "        vertical-align: middle;\n",
       "    }\n",
       "\n",
       "    .dataframe tbody tr th {\n",
       "        vertical-align: top;\n",
       "    }\n",
       "\n",
       "    .dataframe thead th {\n",
       "        text-align: right;\n",
       "    }\n",
       "</style>\n",
       "<table border=\"1\" class=\"dataframe\">\n",
       "  <thead>\n",
       "    <tr style=\"text-align: right;\">\n",
       "      <th></th>\n",
       "      <th>carid</th>\n",
       "      <th>pushDate</th>\n",
       "      <th>pushPrice</th>\n",
       "      <th>update_price</th>\n",
       "      <th>barging_times</th>\n",
       "      <th>barging_price</th>\n",
       "      <th>transcycle</th>\n",
       "    </tr>\n",
       "  </thead>\n",
       "  <tbody>\n",
       "    <tr>\n",
       "      <th>0</th>\n",
       "      <td>68603</td>\n",
       "      <td>2021-03-11</td>\n",
       "      <td>3.9800</td>\n",
       "      <td>0.0</td>\n",
       "      <td>0.0</td>\n",
       "      <td>0.00</td>\n",
       "      <td>0</td>\n",
       "    </tr>\n",
       "    <tr>\n",
       "      <th>1</th>\n",
       "      <td>12312</td>\n",
       "      <td>2021-05-14</td>\n",
       "      <td>4.5000</td>\n",
       "      <td>0.0</td>\n",
       "      <td>0.0</td>\n",
       "      <td>0.00</td>\n",
       "      <td>31</td>\n",
       "    </tr>\n",
       "    <tr>\n",
       "      <th>2</th>\n",
       "      <td>57655</td>\n",
       "      <td>2021-04-05</td>\n",
       "      <td>23.0000</td>\n",
       "      <td>1.0</td>\n",
       "      <td>1.0</td>\n",
       "      <td>0.90</td>\n",
       "      <td>3</td>\n",
       "    </tr>\n",
       "    <tr>\n",
       "      <th>3</th>\n",
       "      <td>45688</td>\n",
       "      <td>2020-09-01</td>\n",
       "      <td>20.5798</td>\n",
       "      <td>0.0</td>\n",
       "      <td>0.0</td>\n",
       "      <td>0.00</td>\n",
       "      <td>3</td>\n",
       "    </tr>\n",
       "    <tr>\n",
       "      <th>4</th>\n",
       "      <td>52081</td>\n",
       "      <td>2021-05-20</td>\n",
       "      <td>11.9000</td>\n",
       "      <td>1.0</td>\n",
       "      <td>1.0</td>\n",
       "      <td>0.38</td>\n",
       "      <td>32</td>\n",
       "    </tr>\n",
       "    <tr>\n",
       "      <th>...</th>\n",
       "      <td>...</td>\n",
       "      <td>...</td>\n",
       "      <td>...</td>\n",
       "      <td>...</td>\n",
       "      <td>...</td>\n",
       "      <td>...</td>\n",
       "      <td>...</td>\n",
       "    </tr>\n",
       "    <tr>\n",
       "      <th>7995</th>\n",
       "      <td>1069</td>\n",
       "      <td>2021-06-12</td>\n",
       "      <td>11.0000</td>\n",
       "      <td>1.0</td>\n",
       "      <td>1.0</td>\n",
       "      <td>0.38</td>\n",
       "      <td>0</td>\n",
       "    </tr>\n",
       "    <tr>\n",
       "      <th>7996</th>\n",
       "      <td>38017</td>\n",
       "      <td>2020-04-14</td>\n",
       "      <td>9.3800</td>\n",
       "      <td>1.0</td>\n",
       "      <td>1.0</td>\n",
       "      <td>0.30</td>\n",
       "      <td>216</td>\n",
       "    </tr>\n",
       "    <tr>\n",
       "      <th>7997</th>\n",
       "      <td>27175</td>\n",
       "      <td>2020-08-11</td>\n",
       "      <td>3.8000</td>\n",
       "      <td>1.0</td>\n",
       "      <td>1.0</td>\n",
       "      <td>0.20</td>\n",
       "      <td>8</td>\n",
       "    </tr>\n",
       "    <tr>\n",
       "      <th>7998</th>\n",
       "      <td>49633</td>\n",
       "      <td>2020-10-09</td>\n",
       "      <td>4.8800</td>\n",
       "      <td>0.0</td>\n",
       "      <td>0.0</td>\n",
       "      <td>0.00</td>\n",
       "      <td>4</td>\n",
       "    </tr>\n",
       "    <tr>\n",
       "      <th>7999</th>\n",
       "      <td>52269</td>\n",
       "      <td>2020-11-14</td>\n",
       "      <td>6.0000</td>\n",
       "      <td>0.0</td>\n",
       "      <td>0.0</td>\n",
       "      <td>0.00</td>\n",
       "      <td>1</td>\n",
       "    </tr>\n",
       "  </tbody>\n",
       "</table>\n",
       "<p>8000 rows × 7 columns</p>\n",
       "</div>"
      ],
      "text/plain": [
       "      carid   pushDate  pushPrice  update_price  barging_times  barging_price  \\\n",
       "0     68603 2021-03-11     3.9800           0.0            0.0           0.00   \n",
       "1     12312 2021-05-14     4.5000           0.0            0.0           0.00   \n",
       "2     57655 2021-04-05    23.0000           1.0            1.0           0.90   \n",
       "3     45688 2020-09-01    20.5798           0.0            0.0           0.00   \n",
       "4     52081 2021-05-20    11.9000           1.0            1.0           0.38   \n",
       "...     ...        ...        ...           ...            ...            ...   \n",
       "7995   1069 2021-06-12    11.0000           1.0            1.0           0.38   \n",
       "7996  38017 2020-04-14     9.3800           1.0            1.0           0.30   \n",
       "7997  27175 2020-08-11     3.8000           1.0            1.0           0.20   \n",
       "7998  49633 2020-10-09     4.8800           0.0            0.0           0.00   \n",
       "7999  52269 2020-11-14     6.0000           0.0            0.0           0.00   \n",
       "\n",
       "      transcycle  \n",
       "0              0  \n",
       "1             31  \n",
       "2              3  \n",
       "3              3  \n",
       "4             32  \n",
       "...          ...  \n",
       "7995           0  \n",
       "7996         216  \n",
       "7997           8  \n",
       "7998           4  \n",
       "7999           1  \n",
       "\n",
       "[8000 rows x 7 columns]"
      ]
     },
     "execution_count": 12,
     "metadata": {},
     "output_type": "execute_result"
    }
   ],
   "source": [
    "df_train"
   ]
  },
  {
   "cell_type": "code",
   "execution_count": 24,
   "metadata": {},
   "outputs": [
    {
     "data": {
      "image/png": "[encoded data removed]",
      "text/plain": [
       "<Figure size 1440x432 with 2 Axes>"
      ]
     },
     "metadata": {
      "needs_background": "light"
     },
     "output_type": "display_data"
    }
   ],
   "source": [
    "import scipy.stats as st\n",
    "import seaborn as sns \n",
    "import matplotlib.pyplot as plt \n",
    "\n",
    "plt.figure(figsize=(20, 6))\n",
    "d = df_train.rename(columns={'pushPrice':'上架价格'})\n",
    "y = d['上架价格']\n",
    "\n",
    "plt.subplot(121)\n",
    "plt.title('johnsonsu分布拟合',fontsize=20)\n",
    "plt.xlabel('上架价格',fontsize=15)\n",
    "sns.distplot(y, kde=False, fit=st.johnsonsu, color='Red')\n",
    "\n",
    "plt.subplot(122)\n",
    "st.probplot(y, dist=\"norm\", plot=plt)\n",
    "plt.title('上架价格 Q-Q图',fontsize=20)\n",
    "plt.xlabel('X分位数',fontsize=15)\n",
    "plt.ylabel('Y分位数',fontsize=15)\n",
    "plt.savefig('img/上架价格未转换前的分布.png',dpi=300)\n",
    "plt.show()\n"
   ]
  },
  {
   "cell_type": "code",
   "execution_count": 25,
   "metadata": {},
   "outputs": [
    {
     "data": {
      "image/png": "[encoded data removed]",
      "text/plain": [
       "<Figure size 1440x432 with 2 Axes>"
      ]
     },
     "metadata": {
      "needs_background": "light"
     },
     "output_type": "display_data"
    }
   ],
   "source": [
    "import scipy.stats as st\n",
    "import seaborn as sns \n",
    "import matplotlib.pyplot as plt \n",
    "\n",
    "plt.figure(figsize=(20, 6))\n",
    "d = df_train.rename(columns={'pushPrice':'上架价格'})\n",
    "y = np.log1p(d['上架价格'])\n",
    "plt.subplot(121)\n",
    "plt.xlabel('上架价格',fontsize=15)\n",
    "plt.title('johnsonsu分布拟合',fontsize=20)\n",
    "sns.distplot(y, kde=False, fit=st.johnsonsu, color='Red')\n",
    "\n",
    "plt.subplot(122)\n",
    "\n",
    "st.probplot(y, dist=\"norm\", plot=plt)\n",
    "plt.title('上架价格 Q-Q图',fontsize=20)\n",
    "plt.xlabel('X分位数',fontsize=15)\n",
    "plt.ylabel('Y分位数',fontsize=15)\n",
    "plt.savefig('img/价格转换后的分布.png',dpi=300)\n",
    "plt.show()"
   ]
  },
  {
   "cell_type": "markdown",
   "metadata": {},
   "source": [
    "## 1.7 提取时间特征"
   ]
  },
  {
   "cell_type": "code",
   "execution_count": null,
   "metadata": {},
   "outputs": [],
   "source": [
    "# # 时间处理(提取年月日)\n",
    "df_train['pushDate'] = pd.to_datetime(df_train['pushDate'])\n",
    "df_test['pushDate'] = pd.to_datetime(df_test['pushDate'])\n",
    "df_train['pushDate_year'] = df_train['pushDate'].dt.year\n",
    "df_train['pushDate_month'] = df_train['pushDate'].dt.month\n",
    "df_train['pushDate_day'] = df_train['pushDate'].dt.day\n",
    "\n",
    "df_test['pushDate_year'] = df_test['pushDate'].dt.year\n",
    "df_test['pushDate_month'] = df_test['pushDate'].dt.month\n",
    "df_test['pushDate_day'] = df_test['pushDate'].dt.day\n",
    "\n",
    "del df_train['pushDate']\n",
    "del df_test['pushDate']\n"
   ]
  },
  {
   "cell_type": "markdown",
   "metadata": {},
   "source": [
    "## 1.8 数据分布的转换"
   ]
  },
  {
   "cell_type": "code",
   "execution_count": null,
   "metadata": {},
   "outputs": [
    {
     "data": {
      "image/png": "[encoded data removed]",
      "text/plain": [
       "<Figure size 432x288 with 1 Axes>"
      ]
     },
     "metadata": {
      "needs_background": "light"
     },
     "output_type": "display_data"
    }
   ],
   "source": [
    "# 插件价格分布，大于200的有20个，平均在75以下\n",
    "y_p = df_train[df_train['transcycle'] <= 150]\n",
    "## 3) 查看预测值的具体频数\n",
    "plt.hist(y_p['transcycle'], orientation='vertical',\n",
    "         histtype='bar', color='purple')\n",
    "plt.show()\n"
   ]
  },
  {
   "cell_type": "code",
   "execution_count": null,
   "metadata": {},
   "outputs": [
    {
     "data": {
      "text/plain": [
       "(7883, 9)"
      ]
     },
     "execution_count": 15,
     "metadata": {},
     "output_type": "execute_result"
    }
   ],
   "source": [
    "df_train[df_train['transcycle'] <= 100].shape\n"
   ]
  },
  {
   "cell_type": "code",
   "execution_count": null,
   "metadata": {},
   "outputs": [
    {
     "data": {
      "text/plain": [
       "(7989, 9)"
      ]
     },
     "execution_count": 16,
     "metadata": {},
     "output_type": "execute_result"
    }
   ],
   "source": [
    "df_train[df_train['pushPrice'] < 150].shape\n"
   ]
  },
  {
   "cell_type": "code",
   "execution_count": null,
   "metadata": {},
   "outputs": [
    {
     "data": {
      "image/png": "[encoded data removed]",
      "text/plain": [
       "<Figure size 1440x720 with 2 Axes>"
      ]
     },
     "metadata": {
      "needs_background": "light"
     },
     "output_type": "display_data"
    }
   ],
   "source": [
    "\n",
    "#q-q 图是通过比较数据和正态分布的分位数是否相等来判断数据是不是符合正态分布\n",
    "\n",
    "from sklearn.preprocessing import StandardScaler\n",
    "scaler_trans = StandardScaler()\n",
    "\n",
    "y = df_train[df_train['transcycle'] < 150]['transcycle']\n",
    "plt.figure(figsize=(20, 10))\n",
    "plt.subplot(121)\n",
    "st.probplot(y, dist=\"norm\", plot=plt)\n",
    "plt.title('price Q-Q图')\n",
    "plt.xlabel('X分位数')\n",
    "plt.ylabel('Y分位数')\n",
    "\n",
    "y2 = np.log1p(df_train[df_train['transcycle'] < 150]['transcycle'])\n",
    "plt.subplot(122)\n",
    "st.probplot(y2, dist=\"norm\", plot=plt)\n",
    "plt.title('对数转换后Q-Q图')\n",
    "plt.xlabel('X分位数')\n",
    "plt.ylabel('Y分位数')\n",
    "# plt.savefig(\n",
    "# '/media/mgege007/Compitition/MathorCup-Bigdata/复赛/IMG/数据分析/price正态检验Q-Q图.png')\n",
    "plt.show()\n"
   ]
  },
  {
   "cell_type": "code",
   "execution_count": null,
   "metadata": {},
   "outputs": [],
   "source": [
    "\n"
   ]
  },
  {
   "cell_type": "code",
   "execution_count": null,
   "metadata": {},
   "outputs": [],
   "source": [
    "newcol = ['pushPrice', 'update_price', 'barging_times', 'barging_price','transcycle']\n",
    "\n",
    "# df_train[newcol].to_csv('./data/clear_train_{}.csv'.format(len(newcol)-1), index=0)\n",
    "# newcol.remove('transcycle')\n",
    "# df_test[newcol].to_csv('./data/clear_test_{}.csv'.format(len(newcol)), index=0)\n"
   ]
  },
  {
   "cell_type": "code",
   "execution_count": null,
   "metadata": {},
   "outputs": [],
   "source": [
    "mcorr = df_train.corr(method='spearman').abs()\n",
    "relative_df = pd.DataFrame(mcorr['transcycle']).sort_values(by='transcycle', ascending=False)\n",
    "# relative_df.to_csv('./submit/与交易周期相关性.csv',index=0)\n"
   ]
  },
  {
   "cell_type": "markdown",
   "metadata": {},
   "source": [
    "## 1.8 特征交叉"
   ]
  },
  {
   "cell_type": "code",
   "execution_count": null,
   "metadata": {},
   "outputs": [],
   "source": [
    "#定义交叉特征统计\n",
    "def cross_cat_num(df, num_col, cat_col):\n",
    "    for f1 in tqdm(cat_col):\n",
    "        g = df.groupby(f1, as_index=False)\n",
    "        for f2 in tqdm(num_col):\n",
    "            feat = g[f2].agg({\n",
    "                '{}_{}_max'.format(f1, f2): 'max', '{}_{}_min'.format(f1, f2): 'min',\n",
    "                '{}_{}_median'.format(f1, f2): 'median',\n",
    "                '{}_{}_sum'.format(f1, f2): 'sum',\n",
    "                '{}_{}_mad'.format(f1, f2): 'mad',\n",
    "            })\n",
    "            df = df.merge(feat, on=f1, how='left')\n",
    "    return(df)\n",
    "### 用数值特征 与类别特征做交叉\n",
    "cross_num = ['pushPrice','update_price','barging_price']\n",
    "\n",
    "cross_cat = ['barging_times', 'pushDate_year', 'pushDate_month','pushDate_day']\n"
   ]
  },
  {
   "cell_type": "code",
   "execution_count": null,
   "metadata": {},
   "outputs": [
    {
     "name": "stderr",
     "output_type": "stream",
     "text": [
      "100%|██████████| 3/3 [00:00<00:00, 56.99it/s]\n",
      "100%|██████████| 3/3 [00:00<00:00, 70.83it/s]\n",
      "100%|██████████| 3/3 [00:00<00:00, 40.28it/s]\n",
      "100%|██████████| 3/3 [00:00<00:00, 15.38it/s]\n",
      "100%|██████████| 4/4 [00:00<00:00, 10.29it/s]\n",
      "100%|██████████| 3/3 [00:00<00:00, 55.59it/s]\n",
      "100%|██████████| 3/3 [00:00<00:00, 88.55it/s]\n",
      "100%|██████████| 3/3 [00:00<00:00, 55.75it/s]\n",
      "100%|██████████| 3/3 [00:00<00:00, 29.98it/s]\n",
      "100%|██████████| 4/4 [00:00<00:00, 15.44it/s]\n"
     ]
    }
   ],
   "source": [
    "data_train = cross_cat_num(df_train, cross_num, cross_cat)  # 一阶交叉\n",
    "data_test = cross_cat_num(df_test, cross_num, cross_cat)  # 一阶交叉"
   ]
  },
  {
   "cell_type": "code",
   "execution_count": null,
   "metadata": {},
   "outputs": [
    {
     "data": {
      "text/plain": [
       "(8000, 69)"
      ]
     },
     "execution_count": 25,
     "metadata": {},
     "output_type": "execute_result"
    }
   ],
   "source": [
    "data_train.shape\n"
   ]
  },
  {
   "cell_type": "markdown",
   "metadata": {},
   "source": [
    "## 1.10 筛选与交易周期的关键因素"
   ]
  },
  {
   "cell_type": "code",
   "execution_count": null,
   "metadata": {},
   "outputs": [
    {
     "data": {
      "text/html": [
       "<div>\n",
       "<style scoped>\n",
       "    .dataframe tbody tr th:only-of-type {\n",
       "        vertical-align: middle;\n",
       "    }\n",
       "\n",
       "    .dataframe tbody tr th {\n",
       "        vertical-align: top;\n",
       "    }\n",
       "\n",
       "    .dataframe thead th {\n",
       "        text-align: right;\n",
       "    }\n",
       "</style>\n",
       "<table border=\"1\" class=\"dataframe\">\n",
       "  <thead>\n",
       "    <tr style=\"text-align: right;\">\n",
       "      <th></th>\n",
       "      <th>transcycle</th>\n",
       "    </tr>\n",
       "  </thead>\n",
       "  <tbody>\n",
       "    <tr>\n",
       "      <th>transcycle</th>\n",
       "      <td>1.000000</td>\n",
       "    </tr>\n",
       "    <tr>\n",
       "      <th>barging_times_barging_price_median</th>\n",
       "      <td>0.124195</td>\n",
       "    </tr>\n",
       "    <tr>\n",
       "      <th>update_price</th>\n",
       "      <td>0.124164</td>\n",
       "    </tr>\n",
       "    <tr>\n",
       "      <th>barging_times</th>\n",
       "      <td>0.124164</td>\n",
       "    </tr>\n",
       "    <tr>\n",
       "      <th>barging_times_update_price_median</th>\n",
       "      <td>0.124164</td>\n",
       "    </tr>\n",
       "    <tr>\n",
       "      <th>...</th>\n",
       "      <td>...</td>\n",
       "    </tr>\n",
       "    <tr>\n",
       "      <th>pushDate_month_update_price_median</th>\n",
       "      <td>NaN</td>\n",
       "    </tr>\n",
       "    <tr>\n",
       "      <th>pushDate_month_barging_price_median</th>\n",
       "      <td>NaN</td>\n",
       "    </tr>\n",
       "    <tr>\n",
       "      <th>pushDate_day_update_price_min</th>\n",
       "      <td>NaN</td>\n",
       "    </tr>\n",
       "    <tr>\n",
       "      <th>pushDate_day_update_price_median</th>\n",
       "      <td>NaN</td>\n",
       "    </tr>\n",
       "    <tr>\n",
       "      <th>pushDate_day_barging_price_median</th>\n",
       "      <td>NaN</td>\n",
       "    </tr>\n",
       "  </tbody>\n",
       "</table>\n",
       "<p>69 rows × 1 columns</p>\n",
       "</div>"
      ],
      "text/plain": [
       "                                     transcycle\n",
       "transcycle                             1.000000\n",
       "barging_times_barging_price_median     0.124195\n",
       "update_price                           0.124164\n",
       "barging_times                          0.124164\n",
       "barging_times_update_price_median      0.124164\n",
       "...                                         ...\n",
       "pushDate_month_update_price_median          NaN\n",
       "pushDate_month_barging_price_median         NaN\n",
       "pushDate_day_update_price_min               NaN\n",
       "pushDate_day_update_price_median            NaN\n",
       "pushDate_day_barging_price_median           NaN\n",
       "\n",
       "[69 rows x 1 columns]"
      ]
     },
     "execution_count": 26,
     "metadata": {},
     "output_type": "execute_result"
    }
   ],
   "source": [
    "mcorr = data_train.corr(method='spearman').abs()\n",
    "trans_df = pd.DataFrame(mcorr['transcycle']).sort_values(by='transcycle',ascending=False)\n",
    "trans_df"
   ]
  },
  {
   "cell_type": "code",
   "execution_count": null,
   "metadata": {},
   "outputs": [
    {
     "data": {
      "text/plain": [
       "58"
      ]
     },
     "execution_count": 27,
     "metadata": {},
     "output_type": "execute_result"
    }
   ],
   "source": [
    "tt = mcorr['transcycle'] > 0\n",
    "newcols = list(tt[tt == True].index)\n",
    "len(newcols)\n"
   ]
  },
  {
   "cell_type": "code",
   "execution_count": null,
   "metadata": {},
   "outputs": [],
   "source": [
    "data_train[newcols].to_csv(\n",
    "    './data/clear_train_{}.csv'.format(len(newcols)-1), index=0)\n",
    "newcols.remove('transcycle')\n",
    "data_test[newcols].to_csv(\n",
    "    './data/clear_test_{}.csv'.format(len(newcols)), index=0)\n",
    "# data_train.to_csv(\n",
    "#     './data/clear_train_{}.csv'.format(data_test.shape[1]), index=0)\n",
    "# data_test.to_csv(\n",
    "#     './data/clear_test_{}.csv'.format(data_test.shape[1]), index=0)\n"
   ]
  },
  {
   "cell_type": "code",
   "execution_count": null,
   "metadata": {},
   "outputs": [
    {
     "data": {
      "text/plain": [
       "27"
      ]
     },
     "execution_count": 307,
     "metadata": {},
     "output_type": "execute_result"
    }
   ],
   "source": [
    "data_test.shape[1]\n"
   ]
  },
  {
   "cell_type": "markdown",
   "metadata": {},
   "source": [
    "# 2 模型训练"
   ]
  },
  {
   "cell_type": "code",
   "execution_count": null,
   "metadata": {},
   "outputs": [],
   "source": [
    "from sklearn import metrics\n",
    "from sklearn.model_selection import KFold\n",
    "import lightgbm as lgb\n",
    "import pandas as pd\n",
    "from sklearn.model_selection import KFold\n",
    "import xgboost as xgb\n",
    "from catboost import CatBoostRegressor\n",
    "from sklearn.linear_model import LinearRegression\n",
    "from sklearn.neighbors import KNeighborsRegressor\n",
    "from sklearn.ensemble import RandomForestRegressor\n",
    "import numpy as np\n",
    "from sklearn.preprocessing import StandardScaler\n",
    "\n"
   ]
  },
  {
   "cell_type": "code",
   "execution_count": null,
   "metadata": {},
   "outputs": [],
   "source": [
    "\n",
    "from sklearn.preprocessing import StandardScaler\n",
    "train = pd.read_csv('./data/clear_train_28.csv')\n",
    "test = pd.read_csv('./data/clear_test_28.csv')\n",
    "train_X = train[train['pushPrice'] < 150]\n",
    "# train_X['pushPrice'] = np.log1p(train_X['pushPrice'])\n",
    "train_y = np.log1p(train_X['transcycle'])\n",
    "del train_X['transcycle']\n",
    "scaler = StandardScaler()\n",
    "train_x = scaler.fit_transform(train_X)\n",
    "test_x = scaler.fit_transform(test)\n"
   ]
  },
  {
   "cell_type": "code",
   "execution_count": null,
   "metadata": {},
   "outputs": [
    {
     "data": {
      "text/plain": [
       "(7989,)"
      ]
     },
     "execution_count": 56,
     "metadata": {},
     "output_type": "execute_result"
    }
   ],
   "source": [
    "\n",
    "train_y.shape\n"
   ]
  },
  {
   "cell_type": "code",
   "execution_count": null,
   "metadata": {},
   "outputs": [],
   "source": [
    "from sklearn import metrics\n",
    "\n",
    "params = {'learning_rate': 0.01,\n",
    "          'boosting_type': 'gbdt',\n",
    "          'objective': 'regression_l1',\n",
    "          'metric': 'mae',\n",
    "          'min_child_samples': 46,\n",
    "          'min_child_weight': 0.01,\n",
    "          'feature_fraction': 0.8,\n",
    "          'bagging_fraction': 0.8,\n",
    "          'bagging_freq': 2,\n",
    "          'num_leaves': 32,\n",
    "          'max_depth': 8,\n",
    "          'n_jobs': -1,\n",
    "          'seed': 2019,\n",
    "          'verbose': -1,\n",
    "          }\n",
    "\n",
    "def MAE_metric(y_true, y_pred):\n",
    "    return metrics.mean_absolute_error(y_true, y_pred)\n"
   ]
  },
  {
   "cell_type": "code",
   "execution_count": null,
   "metadata": {},
   "outputs": [
    {
     "name": "stdout",
     "output_type": "stream",
     "text": [
      "-------------正在训练lgb----------\n",
      "fold 0\n",
      "lgb val_mae 0.9195445167153885\n",
      "fold 1\n",
      "lgb val_mae 0.8940499071836471\n",
      "fold 2\n",
      "lgb val_mae 0.8822967635992663\n",
      "fold 3\n",
      "lgb val_mae 0.903541160816376\n",
      "fold 4\n",
      "lgb val_mae 0.9109010097829437\n",
      "-------------正在训练xgb----------\n",
      "fold 0\n",
      "xgb val_mae 0.9566159900659342\n",
      "fold 1\n",
      "xgb val_mae 0.9650012706589515\n",
      "fold 2\n",
      "xgb val_mae 0.9427056818727468\n",
      "fold 3\n",
      "xgb val_mae 0.9503711159685134\n",
      "fold 4\n",
      "xgb val_mae 0.968789448786576\n",
      "-------------正在训练cat----------\n",
      "fold 0\n",
      "cat val_mae 0.9293971670194556\n",
      "fold 1\n",
      "cat val_mae 0.911942677659876\n",
      "fold 2\n",
      "cat val_mae 0.8952795469173933\n",
      "fold 3\n",
      "cat val_mae 0.9142579868837777\n",
      "fold 4\n",
      "cat val_mae 0.9258411818532728\n",
      "-------------正在训练knn----------\n",
      "fold 0\n",
      "knn val_mae 0.9440156737661497\n",
      "fold 1\n",
      "knn val_mae 0.9180090381035809\n",
      "fold 2\n",
      "knn val_mae 0.9412759756954074\n",
      "fold 3\n",
      "knn val_mae 0.9313910034918231\n",
      "fold 4\n",
      "knn val_mae 0.943115669206743\n",
      "-------------正在训练rf----------\n",
      "fold 0\n"
     ]
    }
   ],
   "source": [
    "folds = 5\n",
    "kfold = KFold(n_splits=folds, shuffle=True, random_state=5421)\n",
    "model_n = 'rf'\n",
    "pred_list = []\n",
    "all_val = []\n",
    "for model_n in ['lgb','xgb','cat','knn','rf']:\n",
    "    print(\"-------------正在训练{}----------\".format(model_n))\n",
    "    preds = np.zeros(len(test_x))\n",
    "    fold_val = []\n",
    "    for fold, (trn_idx, val_idx) in enumerate(kfold.split(train_x, train_y)):\n",
    "        import lightgbm as lgb\n",
    "        print('fold {}'.format(fold))\n",
    "        x_tra, y_trn, x_val, y_val = train_x[trn_idx], train_y.iloc[trn_idx], train_x[val_idx], train_y.iloc[val_idx]\n",
    "\n",
    "        train_set = lgb.Dataset(x_tra, y_trn)\n",
    "        val_set = lgb.Dataset(x_val, y_val)\n",
    "        # lgb\n",
    "        if model_n =='lgb':\n",
    "            model = lgb.train(params, train_set, num_boost_round=3000,\n",
    "                                    valid_sets=(train_set, val_set),\n",
    "                                    early_stopping_rounds=500,\n",
    "                                    verbose_eval=False)\n",
    "            val_pred = model.predict(x_val, predict_disable_shape_check=True)\n",
    "            preds += model.predict(test_x,predict_disable_shape_check=True) / folds\n",
    "        elif model_n =='xgb':\n",
    "            model = xgb.XGBRegressor(\n",
    "                objective='reg:squarederror',\n",
    "                n_jobs=-1,\n",
    "                n_estimators=1000,\n",
    "                max_depth=7,\n",
    "                subsample=0.8,\n",
    "                learning_rate=0.05,\n",
    "                gamma=0,\n",
    "                colsample_bytree=0.9,\n",
    "                random_state=2021, max_features=None, alpha=0.3)\n",
    "            xgbmodel = model.fit(x_tra, y_trn, verbose=False)\n",
    "            val_pred = xgbmodel.predict(x_val)\n",
    "            preds += xgbmodel.predict(test_x,) / folds\n",
    "        elif model_n =='cat':\n",
    "            model = CatBoostRegressor(\n",
    "                iterations=3000, learning_rate=0.03,\n",
    "                depth=7,\n",
    "                l2_leaf_reg=4,\n",
    "                loss_function='MAE',\n",
    "                eval_metric='MAE',\n",
    "                random_seed=2021)\n",
    "            val_pred = model.fit(x_tra, y_trn, verbose=False).predict(x_val)\n",
    "            preds += model.predict(test_x,) / folds\n",
    "        elif model_n =='knn':\n",
    "            knnmodel = KNeighborsRegressor(n_neighbors=8).fit(x_tra, y_trn)\n",
    "            val_pred = knnmodel.predict(x_val)\n",
    "            preds += xgbmodel.predict(test_x,) / folds\n",
    "        elif model_n =='rf':\n",
    "            rfmodel = RandomForestRegressor(n_estimators=200).fit(x_tra, y_trn)\n",
    "            val_pred = rfmodel.predict(x_val)\n",
    "            preds += rfmodel.predict(test_x,) / folds\n",
    "        \n",
    "        val_mae = MAE_metric(y_val, val_pred)\n",
    "        print('{} val_mae {}'.format(model_n,val_mae))\n",
    "        fold_val.append(val_mae)\n",
    "    all_val.append(fold_val)\n",
    "    pred_list.append(list(preds))\n"
   ]
  },
  {
   "cell_type": "code",
   "execution_count": null,
   "metadata": {},
   "outputs": [],
   "source": [
    "val_df = pd.DataFrame(columns=['lgb', 'xgb', 'cat', 'knn', 'rf'])\n",
    "val_df['lgb'] = all_val[0]\n",
    "val_df['xgb'] = all_val[1]\n",
    "val_df['cat'] = all_val[2]\n",
    "val_df['knn'] = all_val[3]\n",
    "val_df['rf'] = all_val[4]\n",
    "val_df.to_csv('submit/fold_val_mae.csv',index=0)"
   ]
  },
  {
   "cell_type": "code",
   "execution_count": null,
   "metadata": {},
   "outputs": [],
   "source": [
    "# 删除效果较差的XGB的数据\n",
    "del pred_list[1]"
   ]
  },
  {
   "cell_type": "code",
   "execution_count": null,
   "metadata": {},
   "outputs": [
    {
     "data": {
      "text/plain": [
       "0       14\n",
       "1       16\n",
       "2       15\n",
       "3       17\n",
       "4       15\n",
       "        ..\n",
       "1995    17\n",
       "1996    21\n",
       "1997    13\n",
       "1998    13\n",
       "1999    12\n",
       "Name: transcycle, Length: 2000, dtype: int64"
      ]
     },
     "execution_count": 71,
     "metadata": {},
     "output_type": "execute_result"
    }
   ],
   "source": [
    "import math\n",
    "file5 = pd.read_csv('./data/file5.csv')\n",
    "submit_file  = pd.DataFrame(columns=['id'])\n",
    "submit_file['id'] = file5['carid']\n",
    "merge_list = list(np.sum(pred_list, axis=0)/len(pred_list))\n",
    "# 向上取整\n",
    "submit_file['transcycle'] = [math.ceil(i) for i in merge_list]\n",
    "submit_file['transcycle'].astype(int)\n"
   ]
  },
  {
   "cell_type": "code",
   "execution_count": null,
   "metadata": {},
   "outputs": [],
   "source": [
    "with open('./submit/附件6：门店交易模型结果.txt','a+', encoding='utf-8') as f:\n",
    "    for line in submit_file.values:\n",
    "        f.write((str(line[0])+'\\t'+str(line[1])+'\\n'))\n"
   ]
  }
 ],
 "metadata": {
  "interpreter": {
   "hash": "2fc9f0689f2f32664301ce51aaed3853cc1802bb7b4d4a74b41993575fbadbc0"
  },
  "kernelspec": {
   "display_name": "Python 3.6.13 64-bit ('tf2': conda)",
   "name": "python3"
  },
  "language_info": {
   "codemirror_mode": {
    "name": "ipython",
    "version": 3
   },
   "file_extension": ".py",
   "mimetype": "text/x-python",
   "name": "python",
   "nbconvert_exporter": "python",
   "pygments_lexer": "ipython3",
   "version": "3.8.5"
  },
  "vp": {
   "base_numbering": 1,
   "nav_menu": {},
   "number_sections": true,
   "sideBar": true,
   "title_cell": "VisualPython",
   "title_sidebar": "VisualPython",
   "vpPosition": {
    "height": "calc(100% - 180px)",
    "right": "10px",
    "top": "110px",
    "width": "50%"
   },
   "vp_cell": false,
   "vp_section_display": true,
   "vp_window_display": false
  }
 },
 "nbformat": 4,
 "nbformat_minor": 4
}
