{
 "cells": [
  {
   "cell_type": "code",
   "execution_count": 1,
   "metadata": {},
   "outputs": [
    {
     "name": "stderr",
     "output_type": "stream",
     "text": [
      "/Applications/anaconda3/lib/python3.8/site-packages/tqdm/std.py:697: FutureWarning: The Panel class is removed from pandas. Accessing it from the top-level namespace will also be removed in the next version\n",
      "  from pandas import Panel\n"
     ]
    }
   ],
   "source": [
    "import datetime\n",
    "import numpy as np\n",
    "import pandas as pd\n",
    "import numpy as np\n",
    "from tqdm import tqdm\n",
    "tqdm.pandas()\n"
   ]
  },
  {
   "cell_type": "code",
   "execution_count": 2,
   "metadata": {},
   "outputs": [],
   "source": [
    "train = pd.read_csv('./data/file1.csv')\n",
    "test = pd.read_csv('./data/file2.csv')\n"
   ]
  },
  {
   "cell_type": "markdown",
   "metadata": {},
   "source": [
    "# 1 特征工程"
   ]
  },
  {
   "cell_type": "code",
   "execution_count": 3,
   "metadata": {},
   "outputs": [],
   "source": [
    "\n",
    "column_tra = [\"carid\", \"tradeTime\", \"brand\", \"serial\", \"model\", \"mileage\", \"color\", \"cityId\", \"carCode\", \"transferCount\", \"seatings\", \"registerDate\",\n",
    "              \"licenseDate\", \"country\", \"maketype\", \"modelyear\", \"displacement\", \"gearbox\", \"oiltype\", \"newprice\", \"anonymousFeature1\", \"anonymousFeature2\",\n",
    "              \"anonymousFeature3\", \"anonymousFeature5\", \"anonymousFeature6\", \"anonymousFeature11\", \"anonymousFeature12\", \"anonymousFeature14\", \"price\"]\n",
    "column_te = [\"carid\", \"tradeTime\", \"brand\", \"serial\", \"model\", \"mileage\", \"color\", \"cityId\", \"carCode\", \"transferCount\", \"seatings\", \"registerDate\",\n",
    "             \"licenseDate\", \"country\", \"maketype\", \"modelyear\", \"displacement\", \"gearbox\", \"oiltype\", \"newprice\", \"anonymousFeature1\", \"anonymousFeature2\",\n",
    "             \"anonymousFeature3\", \"anonymousFeature5\", \"anonymousFeature6\", \"anonymousFeature11\", \"anonymousFeature12\", \"anonymousFeature14\"]\n",
    "train = train[column_tra]\n",
    "test = test[column_te]\n"
   ]
  },
  {
   "cell_type": "markdown",
   "metadata": {},
   "source": [
    "## 1.1 缺失值处理"
   ]
  },
  {
   "cell_type": "code",
   "execution_count": 4,
   "metadata": {},
   "outputs": [],
   "source": [
    "# 以下分类特征全部填充众数\n",
    "train['carCode'] = train['carCode'].fillna(1)\n",
    "train['modelyear'] = train['modelyear'].fillna(2017)\n",
    "train['country'] = train['country'].fillna(779412)\n",
    "train['maketype'] = train['maketype'].fillna(2)\n",
    "train['gearbox'] = train['gearbox'].fillna(3)\n",
    "train['anonymousFeature5'] = train['anonymousFeature5'].fillna(8)\n",
    "\n",
    "test['carCode'] = test['carCode'].fillna(1)\n",
    "test['modelyear'] = test['modelyear'].fillna(2017)\n",
    "test['country'] = test['country'].fillna(779412)\n",
    "test['maketype'] = test['maketype'].fillna(2)\n",
    "test['gearbox'] = test['gearbox'].fillna(3)\n",
    "test['anonymousFeature5'] = test['anonymousFeature5'].fillna(8)\n",
    "\n",
    "train['anonymousFeature1'] = train['anonymousFeature1'].fillna(1)\n",
    "train['anonymousFeature11'] = train['anonymousFeature11'].fillna('1+2')\n",
    "\n",
    "test['anonymousFeature1'] = test['anonymousFeature1'].fillna(1)\n",
    "test['anonymousFeature11'] = test['anonymousFeature11'].fillna('1+2')\n"
   ]
  },
  {
   "cell_type": "markdown",
   "metadata": {},
   "source": [
    "## 1.2 提取时间特征"
   ]
  },
  {
   "cell_type": "code",
   "execution_count": 5,
   "metadata": {},
   "outputs": [],
   "source": [
    "# # 时间处理(提取年月日)\n",
    "train['tradeTime'] = pd.to_datetime(train['tradeTime'])\n",
    "train['registerDate'] = pd.to_datetime(train['registerDate'])\n",
    "train['licenseDate'] = pd.to_datetime(train['licenseDate'])\n",
    "test['tradeTime'] = pd.to_datetime(test['tradeTime'])\n",
    "test['registerDate'] = pd.to_datetime(test['registerDate'])\n",
    "test['licenseDate'] = pd.to_datetime(test['licenseDate'])\n",
    "\n",
    "\n",
    "train['tradeTime_year'] = train['tradeTime'].dt.year\n",
    "train['tradeTime_month'] = train['tradeTime'].dt.month\n",
    "train['tradeTime_day'] = train['tradeTime'].dt.day\n",
    "\n",
    "train['registerDate_year'] = train['registerDate'].dt.year\n",
    "train['registerDate_month'] = train['registerDate'].dt.month\n",
    "train['registerDate_day'] = train['registerDate'].dt.day\n",
    "\n",
    "\n",
    "test['tradeTime_year'] = test['tradeTime'].dt.year\n",
    "test['tradeTime_month'] = test['tradeTime'].dt.month\n",
    "test['tradeTime_day'] = test['tradeTime'].dt.day\n",
    "\n",
    "test['registerDate_year'] = test['registerDate'].dt.year\n",
    "test['registerDate_month'] = test['registerDate'].dt.month\n",
    "test['registerDate_day'] = test['registerDate'].dt.day\n",
    "\n",
    "train['licenseDate_year'] = train['licenseDate'].dt.year\n",
    "train['licenseDate_month'] = train['licenseDate'].dt.month\n",
    "train['licenseDate_day'] = train['licenseDate'].dt.day\n",
    "\n",
    "test['licenseDate_year'] = test['licenseDate'].dt.year\n",
    "test['licenseDate_month'] = test['licenseDate'].dt.month\n",
    "test['licenseDate_day'] = test['licenseDate'].dt.day\n",
    "\n",
    "del train['tradeTime']\n",
    "del test['tradeTime']\n",
    "del train['registerDate']\n",
    "del test['registerDate']\n",
    "del train['licenseDate']\n",
    "del test['licenseDate']\n"
   ]
  },
  {
   "cell_type": "markdown",
   "metadata": {},
   "source": [
    "## 1.3 匿名特征12的处理"
   ]
  },
  {
   "cell_type": "code",
   "execution_count": 6,
   "metadata": {},
   "outputs": [],
   "source": [
    "series1 = train['anonymousFeature12'].str.split('*', expand=True)\n",
    "train['length'] = series1[0]\n",
    "train['width'] = series1[1]\n",
    "train['high'] = series1[2]\n",
    "series2 = test['anonymousFeature12'].str.split('*', expand=True)\n",
    "test['length'] = series2[0]\n",
    "test['width'] = series2[1]\n",
    "test['high'] = series2[2]\n",
    "\n",
    "\n",
    "train['length'] = train['length'].astype(float)\n",
    "train['width'] = train['width'].astype(float)\n",
    "train['high'] = train['high'].astype(float)\n",
    "\n",
    "train['volume'] = train['length']*train['width']*train['high']\n",
    "\n",
    "test['length'] = test['length'].astype(float)\n",
    "test['width'] = test['width'].astype(float)\n",
    "test['high'] = test['high'].astype(float)\n",
    "test['volume'] = test['length']*test['width']*test['high']\n",
    "\n",
    "del train['anonymousFeature12']\n",
    "del test['anonymousFeature12']\n"
   ]
  },
  {
   "cell_type": "code",
   "execution_count": 7,
   "metadata": {},
   "outputs": [
    {
     "data": {
      "text/plain": [
       "carid                 False\n",
       "brand                 False\n",
       "serial                False\n",
       "model                 False\n",
       "mileage               False\n",
       "color                 False\n",
       "cityId                False\n",
       "carCode               False\n",
       "transferCount         False\n",
       "seatings              False\n",
       "country               False\n",
       "maketype              False\n",
       "modelyear             False\n",
       "displacement          False\n",
       "gearbox               False\n",
       "oiltype               False\n",
       "newprice              False\n",
       "anonymousFeature1     False\n",
       "anonymousFeature2     False\n",
       "anonymousFeature3     False\n",
       "anonymousFeature5     False\n",
       "anonymousFeature6     False\n",
       "anonymousFeature11    False\n",
       "anonymousFeature14    False\n",
       "tradeTime_year        False\n",
       "tradeTime_month       False\n",
       "tradeTime_day         False\n",
       "registerDate_year     False\n",
       "registerDate_month    False\n",
       "registerDate_day      False\n",
       "licenseDate_year      False\n",
       "licenseDate_month     False\n",
       "licenseDate_day       False\n",
       "length                 True\n",
       "width                  True\n",
       "high                   True\n",
       "volume                 True\n",
       "dtype: bool"
      ]
     },
     "execution_count": 7,
     "metadata": {},
     "output_type": "execute_result"
    }
   ],
   "source": [
    "test.isnull().any()\n"
   ]
  },
  {
   "cell_type": "markdown",
   "metadata": {},
   "source": [
    "## 1.4 填充测试集中的缺失值"
   ]
  },
  {
   "cell_type": "code",
   "execution_count": 8,
   "metadata": {},
   "outputs": [],
   "source": [
    "# tt = test.isnull().any()  # 用来判断某列是否有缺失值\n",
    "# test中匿名特征12有一个缺失值\n",
    "tt2 = test.isna().sum()\n",
    "tt2[tt2 > 0]\n",
    "test['length'] = test['length'].fillna(4630)\n",
    "test['width'] = test['width'].fillna(1392)\n",
    "test['high'] = test['high'].fillna(1470)\n",
    "test['volume'] = test['volume'].fillna(4630*1392*1470)\n"
   ]
  },
  {
   "cell_type": "markdown",
   "metadata": {},
   "source": [
    "## 1.5 匿名特征11的处理"
   ]
  },
  {
   "cell_type": "code",
   "execution_count": 9,
   "metadata": {},
   "outputs": [],
   "source": [
    "dict = {'1': 1,\n",
    "        '1+2': 2,\n",
    "        '3+2': 3,\n",
    "        '1+2,4+2': 4,\n",
    "        '1,3+2': 5,\n",
    "        '5': 6}\n",
    "\n",
    "train['anonymousFeature11'] = train['anonymousFeature11'].map(dict)\n",
    "test['anonymousFeature11'] = test['anonymousFeature11'].map(dict)\n",
    "del train['anonymousFeature11']\n",
    "del test['anonymousFeature11']\n"
   ]
  },
  {
   "cell_type": "code",
   "execution_count": 10,
   "metadata": {},
   "outputs": [
    {
     "name": "stderr",
     "output_type": "stream",
     "text": [
      "/Applications/anaconda3/lib/python3.8/site-packages/seaborn/distributions.py:2551: FutureWarning: `distplot` is a deprecated function and will be removed in a future version. Please adapt your code to use either `displot` (a figure-level function with similar flexibility) or `histplot` (an axes-level function for histograms).\n",
      "  warnings.warn(msg, FutureWarning)\n"
     ]
    },
    {
     "data": {
      "image/png": "[encoded data removed]",
      "text/plain": [
       "<Figure size 432x288 with 1 Axes>"
      ]
     },
     "metadata": {
      "needs_background": "light"
     },
     "output_type": "display_data"
    }
   ],
   "source": [
    "import scipy.stats as st\n",
    "import seaborn as sns \n",
    "import matplotlib.pyplot as plt \n",
    "plt.rcParams['font.sans-serif'] = ['Arial Unicode MS']\n",
    "y = train['volume']\n",
    "plt.title('正态分布拟合')\n",
    "fig = sns.distplot(y, kde=False, fit=st.norm,color='purple')\n",
    "scatter_fig = fig.get_figure()\n",
    "#近似正态分布，不需要转换"
   ]
  },
  {
   "cell_type": "markdown",
   "metadata": {},
   "source": [
    "## 1.6 异常值处理"
   ]
  },
  {
   "cell_type": "code",
   "execution_count": 11,
   "metadata": {},
   "outputs": [
    {
     "data": {
      "text/plain": [
       "(29999, 37)"
      ]
     },
     "execution_count": 11,
     "metadata": {},
     "output_type": "execute_result"
    }
   ],
   "source": [
    "train = train[train['price']<700]\n",
    "train.shape"
   ]
  },
  {
   "cell_type": "markdown",
   "metadata": {},
   "source": [
    "## 1.7 数据分布转换"
   ]
  },
  {
   "cell_type": "code",
   "execution_count": 12,
   "metadata": {},
   "outputs": [
    {
     "data": {
      "text/plain": [
       "(29999, 37)"
      ]
     },
     "execution_count": 12,
     "metadata": {},
     "output_type": "execute_result"
    }
   ],
   "source": [
    "# 删除训练集中异常值\n",
    "# df_train = train.drop(train[abs(train['newprice']-train['price']) > 100].index)\n",
    "df_train = train\n",
    "\n",
    "train_y = np.log1p(df_train['price'])\n",
    "df_train['newprice'] = np.log1p(df_train['newprice'])\n",
    "df_train['mileage'] = np.log1p(df_train['mileage'])\n",
    "test['mileage'] = np.log1p(test['mileage'])\n",
    "test['newprice'] = np.log1p(test['newprice'])\n",
    "df_train.shape\n"
   ]
  },
  {
   "cell_type": "markdown",
   "metadata": {},
   "source": [
    "# 1.8 特征交叉"
   ]
  },
  {
   "cell_type": "code",
   "execution_count": 13,
   "metadata": {},
   "outputs": [
    {
     "data": {
      "text/plain": [
       "(34999, 36)"
      ]
     },
     "execution_count": 13,
     "metadata": {},
     "output_type": "execute_result"
    }
   ],
   "source": [
    "## 数据分布转换\n",
    "data = pd.concat([df_train[test.columns.tolist()], test],\n",
    "                 ignore_index=True, sort=False)\n",
    "data.shape\n"
   ]
  },
  {
   "cell_type": "code",
   "execution_count": 14,
   "metadata": {},
   "outputs": [
    {
     "name": "stderr",
     "output_type": "stream",
     "text": [
      "100%|██████████| 3/3 [00:00<00:00,  4.05it/s]\n",
      "100%|██████████| 3/3 [00:01<00:00,  2.83it/s]]\n",
      "100%|██████████| 3/3 [00:00<00:00, 20.25it/s]]\n",
      "100%|██████████| 3/3 [00:00<00:00, 11.10it/s]]\n",
      "100%|██████████| 3/3 [00:00<00:00, 11.49it/s]]\n",
      "100%|██████████| 3/3 [00:00<00:00, 15.70it/s]]\n",
      "100%|██████████| 3/3 [00:00<00:00, 15.04it/s]]\n",
      "100%|██████████| 3/3 [00:00<00:00, 13.94it/s]]\n",
      "100%|██████████| 3/3 [00:00<00:00,  7.88it/s]]\n",
      "100%|██████████| 3/3 [00:00<00:00,  7.57it/s]]\n",
      "100%|██████████| 3/3 [00:00<00:00,  8.48it/s]s]\n",
      "100%|██████████| 3/3 [00:00<00:00, 11.42it/s]s]\n",
      "100%|██████████| 3/3 [00:00<00:00,  7.28it/s]s]\n",
      "100%|██████████| 13/13 [00:05<00:00,  2.59it/s]\n"
     ]
    },
    {
     "data": {
      "text/plain": [
       "(34999, 231)"
      ]
     },
     "execution_count": 14,
     "metadata": {},
     "output_type": "execute_result"
    }
   ],
   "source": [
    "#定义交叉特征统计\n",
    "def cross_cat_num(df, num_col, cat_col):\n",
    "    for f1 in tqdm(cat_col):\n",
    "        g = df.groupby(f1, as_index=False)\n",
    "        for f2 in tqdm(num_col):\n",
    "            feat = g[f2].agg({\n",
    "                '{}_{}_max'.format(f1, f2): 'max', '{}_{}_min'.format(f1, f2): 'min',\n",
    "                '{}_{}_median'.format(f1, f2): 'median',\n",
    "                '{}_{}_sum'.format(f1, f2): 'sum',\n",
    "                '{}_{}_mad'.format(f1, f2): 'mad',\n",
    "            })\n",
    "            df = df.merge(feat, on=f1, how='left')\n",
    "    return(df)\n",
    "\n",
    "### 用数值特征对类别特征做统计刻画，随便挑了几个跟price相关性最高的匿名特征\n",
    "cross_cat = ['width','length','anonymousFeature2','modelyear','maketype','registerDate_year','country','carCode','anonymousFeature5','gearbox',\n",
    "            'cityId','anonymousFeature6','brand']\n",
    "\n",
    "cross_num = ['newprice', 'mileage', 'displacement']\n",
    "data2 = cross_cat_num(data, cross_num, cross_cat)  # 一阶交叉\n",
    "data2.shape\n"
   ]
  },
  {
   "cell_type": "markdown",
   "metadata": {},
   "source": [
    "# ## 1.9 特征降维"
   ]
  },
  {
   "cell_type": "markdown",
   "metadata": {},
   "source": [
    "步骤一：根据与price的相关性，筛选性相关性高的特征"
   ]
  },
  {
   "cell_type": "code",
   "execution_count": 15,
   "metadata": {},
   "outputs": [],
   "source": [
    "# 筛选与price相关系数大于0.1的特征\n",
    "\n",
    "tmp_train = data2[:-5000].copy()\n",
    "tmp_train['price'] = train_y\n",
    "col_list = tmp_train.columns.tolist()\n",
    "mcorr = tmp_train[col_list].corr(method='spearman').abs()\n",
    "\n",
    "tt = mcorr['price'] > 0.1\n",
    "new_col = list(tt[tt == True].index)\n",
    "new_col.remove('price')\n",
    "\n",
    "train_df = data2[new_col][:-5000].copy()\n",
    "train_df['price'] = list(train_y)\n",
    "test_df = data2[new_col][-5000:].copy()\n",
    "len(new_col)"
   ]
  },
  {
   "cell_type": "markdown",
   "metadata": {},
   "source": [
    "步骤二：PCA特征降维（舍弃）"
   ]
  },
  {
   "cell_type": "code",
   "execution_count": 13,
   "metadata": {},
   "outputs": [
    {
     "data": {
      "text/plain": [
       "(35000, 100)"
      ]
     },
     "execution_count": 13,
     "metadata": {},
     "output_type": "execute_result"
    }
   ],
   "source": [
    "# from sklearn.decomposition import PCA\n",
    "\n",
    "# pca = PCA(n_components=100)\n",
    "# all_pca = pca.fit_transform(data2[new_col])\n",
    "\n",
    "# all_pca_df = pd.DataFrame(all_pca)\n",
    "# train_df = all_pca_df[:-5000].copy()\n",
    "# train_df['price'] = list(train_y)\n",
    "# test_df = all_pca_df[-5000:].copy()\n",
    "\n",
    "# all_pca.shape"
   ]
  },
  {
   "cell_type": "markdown",
   "metadata": {},
   "source": [
    "## 1.10 存储清洗数据"
   ]
  },
  {
   "cell_type": "code",
   "execution_count": 17,
   "metadata": {},
   "outputs": [],
   "source": [
    "train_df.to_csv('./data/clear_train.csv',index=0)\n",
    "test_df.to_csv('./data/clear_test.csv', index=0)\n"
   ]
  },
  {
   "cell_type": "markdown",
   "metadata": {},
   "source": [
    "# 2 训练模型"
   ]
  },
  {
   "cell_type": "code",
   "execution_count": 1,
   "metadata": {},
   "outputs": [],
   "source": [
    "from sklearn import metrics\n",
    "from sklearn.model_selection import KFold\n",
    "from sklearn.model_selection import train_test_split\n",
    "from sklearn.linear_model import LinearRegression\n",
    "from sklearn.neighbors import KNeighborsRegressor\n",
    "import lightgbm as lgb\n",
    "from sklearn.ensemble import RandomForestRegressor\n",
    "import pandas as pd\n",
    "from sklearn.model_selection import KFold\n",
    "import xgboost as xgb\n",
    "from catboost import CatBoostRegressor\n",
    "import numpy as np\n",
    "from sklearn.preprocessing import StandardScaler\n"
   ]
  },
  {
   "cell_type": "code",
   "execution_count": 2,
   "metadata": {},
   "outputs": [],
   "source": [
    "train = pd.read_csv('./data/clear_train.csv')\n",
    "test = pd.read_csv('./data/clear_test.csv')\n"
   ]
  },
  {
   "cell_type": "code",
   "execution_count": 3,
   "metadata": {},
   "outputs": [],
   "source": [
    "\n",
    "train_y = train['price']\n",
    "del train['price']\n",
    "scaler = StandardScaler()\n",
    "train_x = scaler.fit_transform(train)\n",
    "test_x = scaler.fit_transform(test)"
   ]
  },
  {
   "cell_type": "code",
   "execution_count": 4,
   "metadata": {},
   "outputs": [],
   "source": [
    "from sklearn import metrics\n",
    "\n",
    "params = {\n",
    "    'boosting_type': 'gbdt',\n",
    "    'objective': 'regression_l1',\n",
    "    'metric': 'mae',\n",
    "    'num_leaves': 31,\n",
    "    'learning_rate': 0.05,\n",
    "    'feature_fraction': 0.9,\n",
    "    'bagging_fraction': 0.8,\n",
    "    'bagging_freq': 5,\n",
    "    'verbose': -1,\n",
    "}\n",
    "\n",
    "def MAPE_metric(y_true, y_pred):\n",
    "    return np.mean(np.abs((y_true - y_pred) / y_true)) * 100\n",
    "def MAE_metric(y_true, y_pred):\n",
    "    return metrics.mean_absolute_error(y_true, y_pred)\n",
    "def Accuracy_metric(y_true, y_pred):\n",
    "    n = len(y_true)\n",
    "    mape = sum(np.abs((y_true - y_pred)/y_true))/n\n",
    "    alpha = pd.DataFrame(abs(y_true - y_pred)/y_true)\n",
    "    Accuracy = (alpha[alpha <= 0.05].count() /alpha.count())*0.8+0.2*(1-mape)\n",
    "    return np.float(Accuracy)"
   ]
  },
  {
   "cell_type": "code",
   "execution_count": 5,
   "metadata": {},
   "outputs": [
    {
     "name": "stdout",
     "output_type": "stream",
     "text": [
      "1/5 fold val_acc:0.8557330586228407 val_mae:0.06661852673799193 val_mape:3.3334706885797045\n",
      "2/5 fold val_acc:0.8485010443957735 val_mae:0.06621966804184289 val_mape:4.34947780211332\n",
      "3/5 fold val_acc:0.8479791536199219 val_mae:0.06722000490403508 val_mape:3.4104231900390762\n",
      "4/5 fold val_acc:0.8456434744844146 val_mae:0.06867155640048217 val_mape:3.4449294244594406\n",
      "5/5 fold val_acc:0.8548039181944481 val_mae:0.06623221320010401 val_mape:3.33137423610926\n"
     ]
    }
   ],
   "source": [
    "import os\n",
    "# 存储训练结果的字典\n",
    "import pickle\n",
    "\n",
    "\n",
    "def save_dict(obj, name):\n",
    "    with open(name + '.pkl', 'wb') as f:\n",
    "        pickle.dump(obj, f, pickle.HIGHEST_PROTOCOL)\n",
    "\n",
    "\n",
    "def load_dict(name):\n",
    "    with open(name + '.pkl', 'rb') as f:\n",
    "        return pickle.load(f)\n",
    "\n",
    "\n",
    "if os.path.exists('./data/dict_acc.pkl_{}'.format(features)):\n",
    "    # 读取字典\n",
    "    dict_acc = load_dict(\"./data/dict_acc_{}\".format(features))\n",
    "    dict_mae = load_dict(\"./data/dict_mae_{}\".format(features))\n",
    "    dict_mape = load_dict(\"./data/dict_mape_{}\".format(features))\n",
    "else:\n",
    "    dict_acc = {}\n",
    "    dict_mape = {}\n",
    "    dict_mae = {}\n",
    "    preds_lgb = np.zeros(len(test_x))\n",
    "    preds_xgb = np.zeros(len(test_x))\n",
    "    preds_cat = np.zeros(len(test_x))\n",
    "    folds = 5\n",
    "    kfold = KFold(n_splits=folds, shuffle=True, random_state=5421)\n",
    "    for fold, (trn_idx, val_idx) in enumerate(kfold.split(train_x, train_y)):\n",
    "        import lightgbm as lgb\n",
    "        print('-------fold {}-------'.format(fold))\n",
    "        x_tra, y_trn, x_val, y_val = train_x[trn_idx], train_y.iloc[trn_idx], train_x[val_idx], train_y.iloc[val_idx]\n",
    "\n",
    "        train_set = lgb.Dataset(x_tra, y_trn)\n",
    "        val_set = lgb.Dataset(x_val, y_val)\n",
    "        # lgb\n",
    "        print('---正在训练lgb---')\n",
    "        lgbmodel = lgb.train(params, train_set, num_boost_round=3000,\n",
    "                             valid_sets=(train_set, val_set),\n",
    "                             #   feval=Accuracy_metric,\n",
    "                             early_stopping_rounds=500,\n",
    "                             verbose_eval=False)\n",
    "        val_pred_xgb = lgbmodel.predict(\n",
    "            x_val, predict_disable_shape_check=True)\n",
    "        preds_lgb += lgbmodel.predict(test_x,\n",
    "                                      predict_disable_shape_check=True) / folds\n",
    "        val_acc = Accuracy_metric(y_val, val_pred_xgb)\n",
    "        val_mae = MAE_metric(y_val, val_pred_xgb)\n",
    "        val_mape = MAPE_metric(y_val, val_pred_xgb)\n",
    "        dict_acc['lgb_acc_{}'.format(fold+1)] = val_acc\n",
    "        dict_mae['lgb_mae_{}'.format(fold+1)] = val_mae\n",
    "        dict_mape['lgb_mape_{}'.format(fold+1)] = val_mape\n",
    "        print('lgb val_acc {}'.format(val_acc))\n",
    "        # xgb\n",
    "        print('---正在训练XGBRegressor---')\n",
    "        xgbmodel = xgb.XGBRegressor(\n",
    "            objective='reg:squarederror',\n",
    "            n_jobs=-1,\n",
    "            n_estimators=1000,\n",
    "            max_depth=7,\n",
    "            subsample=0.8,\n",
    "            learning_rate=0.05,\n",
    "            gamma=0,\n",
    "            colsample_bytree=0.9,\n",
    "            random_state=2021, max_features=None, alpha=0.3)\n",
    "        xgbmodel2 = xgbmodel.fit(x_tra, y_trn, verbose=False)\n",
    "        val_pred_xgb = xgbmodel2.predict(x_val)\n",
    "        preds_xgb += xgbmodel2.predict(test_x,) / folds\n",
    "        val_acc = Accuracy_metric(y_val, val_pred_xgb)\n",
    "        val_mae = MAE_metric(y_val, val_pred_xgb)\n",
    "        val_mape = MAPE_metric(y_val, val_pred_xgb)\n",
    "        dict_acc['xgb_acc_{}'.format(fold+1)] = val_acc\n",
    "        dict_mae['xgb_mae_{}'.format(fold+1)] = val_mae\n",
    "        dict_mape['xgb_mape_{}'.format(fold+1)] = val_mape\n",
    "        print('xgb val_acc {}'.format(val_acc))\n",
    "\n",
    "        # cat\n",
    "        print('---正在训练CatBoostRegressor---')\n",
    "        catmodel = CatBoostRegressor(\n",
    "            iterations=3000, learning_rate=0.03,\n",
    "            depth=7,\n",
    "            l2_leaf_reg=4,\n",
    "            loss_function='MAE',\n",
    "            eval_metric='MAE',\n",
    "            random_seed=2021)\n",
    "        catmodel2 = catmodel.fit(x_tra, y_trn, verbose=False)\n",
    "        val_pred_cat = catmodel2.predict(x_val)\n",
    "        preds_cat += catmodel2.predict(test_x,) / folds\n",
    "        val_acc = Accuracy_metric(y_val, val_pred_cat)\n",
    "        val_mae = MAE_metric(y_val, val_pred_cat)\n",
    "        val_mape = MAPE_metric(y_val, val_pred_cat)\n",
    "        dict_acc['cat_acc_{}'.format(fold+1)] = val_acc\n",
    "        dict_mae['cat_mae_{}'.format(fold+1)] = val_mae\n",
    "        dict_mape['cat_mape_{}'.format(fold+1)] = val_mape\n",
    "        print('cat val_acc {}'.format(val_acc))\n",
    "\n",
    "        # lr\n",
    "        print('---正在训练LinearRegression---')\n",
    "        lrmodel = LinearRegression().fit(x_tra, y_trn)\n",
    "        val_pred_lr = lrmodel.predict(x_val)\n",
    "        val_acc = Accuracy_metric(y_val, val_pred_lr)\n",
    "        val_mae = MAE_metric(y_val, val_pred_lr)\n",
    "        val_mape = MAPE_metric(y_val, val_pred_lr)\n",
    "        dict_acc['lr_acc_{}'.format(fold+1)] = val_acc\n",
    "        dict_mae['lr_mae_{}'.format(fold+1)] = val_mae\n",
    "        dict_mape['lr_mape_{}'.format(fold+1)] = val_mape\n",
    "        print('lr val_acc {}'.format(val_acc))\n",
    "\n",
    "        # knn\n",
    "        print('---正在训练KNeighborsRegressor---')\n",
    "        knnmodel = KNeighborsRegressor(n_neighbors=8).fit(x_tra, y_trn)\n",
    "        val_pred_knn = knnmodel.predict(x_val)\n",
    "        val_acc = Accuracy_metric(y_val, val_pred_knn)\n",
    "        val_mae = MAE_metric(y_val, val_pred_knn)\n",
    "        val_mape = MAPE_metric(y_val, val_pred_knn)\n",
    "        dict_acc['knn_acc_{}'.format(fold+1)] = val_acc\n",
    "        dict_mae['knn_mae_{}'.format(fold+1)] = val_mae\n",
    "        dict_mape['knn_mape_{}'.format(fold+1)] = val_mape\n",
    "        print('knn val_acc {}'.format(val_acc))\n",
    "\n",
    "        # rf\n",
    "        print('---正在训练RandomForestRegressor---')\n",
    "        rfmodel = RandomForestRegressor(n_estimators=200).fit(x_tra, y_trn)\n",
    "        val_pred_rf = rfmodel.predict(x_val)\n",
    "        val_acc = Accuracy_metric(y_val, val_pred_rf)\n",
    "        val_mae = MAE_metric(y_val, val_pred_rf)\n",
    "        val_mape = MAPE_metric(y_val, val_pred_rf)\n",
    "        dict_acc['rf_acc_{}'.format(fold+1)] = val_acc\n",
    "        dict_mae['rf_mae_{}'.format(fold+1)] = val_mae\n",
    "        dict_mape['rf_mape_{}'.format(fold+1)] = val_mape\n",
    "        print('rf val_acc {}'.format(val_acc))\n",
    "        print('-'*20)\n",
    "\n",
    "    # dict_acc['lr_5'] = 0.7032255321076033\n",
    "    # 存储字典\n",
    "    save_dict(dict_acc, \"./data/dict_acc_{}\".format(features))\n",
    "    save_dict(dict_mae, \"./data/dict_mae_{}\".format(features))\n",
    "    save_dict(dict_mape, \"./data/dict_mape_{}\".format(features))\n"
   ]
  },
  {
   "cell_type": "code",
   "execution_count": null,
   "metadata": {},
   "outputs": [],
   "source": [
    "dict_acc = {}\n",
    "dict_mape = {}\n",
    "dict_mae = {}\n",
    "preds_lgb = np.zeros(len(test_x))\n",
    "preds_xgb = np.zeros(len(test_x))\n",
    "preds_cat = np.zeros(len(test_x))\n",
    "folds = 5\n",
    "kfold = KFold(n_splits=folds, shuffle=True, random_state=5421)\n",
    "for fold, (trn_idx, val_idx) in enumerate(kfold.split(train_x, train_y)):\n",
    "    import lightgbm as lgb\n",
    "    print('-------fold {}-------'.format(fold))\n",
    "    x_tra, y_trn, x_val, y_val = train_x[trn_idx], train_y.iloc[trn_idx], train_x[val_idx], train_y.iloc[val_idx]\n",
    "\n",
    "    train_set = lgb.Dataset(x_tra, y_trn)\n",
    "    val_set = lgb.Dataset(x_val, y_val)\n",
    "    # lgb\n",
    "    print('---正在训练lgb---')\n",
    "    lgbmodel = lgb.train(params, train_set, num_boost_round=3000,\n",
    "                            valid_sets=(train_set, val_set),\n",
    "                            #   feval=Accuracy_metric,\n",
    "                            early_stopping_rounds=500,\n",
    "                            verbose_eval=False)\n",
    "    val_pred_xgb = lgbmodel.predict(\n",
    "        x_val, predict_disable_shape_check=True)\n",
    "    preds_lgb += lgbmodel.predict(test_x,\n",
    "                                    predict_disable_shape_check=True) / folds\n",
    "    val_acc = Accuracy_metric(y_val, val_pred_xgb)\n",
    "    val_mae = MAE_metric(y_val, val_pred_xgb)\n",
    "    val_mape = MAPE_metric(y_val, val_pred_xgb)\n",
    "    dict_acc['lgb_acc_{}'.format(fold+1)] = val_acc\n",
    "    dict_mae['lgb_mae_{}'.format(fold+1)] = val_mae\n",
    "    dict_mape['lgb_mape_{}'.format(fold+1)] = val_mape\n",
    "    print('lgb val_acc {}'.format(val_acc))\n",
    "    # xgb\n",
    "    print('---正在训练XGBRegressor---')\n",
    "    xgbmodel = xgb.XGBRegressor(\n",
    "        objective='reg:squarederror',\n",
    "        n_jobs=-1,\n",
    "        n_estimators=1000,\n",
    "        max_depth=7,\n",
    "        subsample=0.8,\n",
    "        learning_rate=0.05,\n",
    "        gamma=0,\n",
    "        colsample_bytree=0.9,\n",
    "        random_state=2021, max_features=None, alpha=0.3)\n",
    "    xgbmodel2 = xgbmodel.fit(x_tra, y_trn, verbose=False)\n",
    "    val_pred_xgb = xgbmodel2.predict(x_val)\n",
    "    preds_xgb += xgbmodel2.predict(test_x,) / folds\n",
    "    val_acc = Accuracy_metric(y_val, val_pred_xgb)\n",
    "    val_mae = MAE_metric(y_val, val_pred_xgb)\n",
    "    val_mape = MAPE_metric(y_val, val_pred_xgb)\n",
    "    dict_acc['xgb_acc_{}'.format(fold+1)] = val_acc\n",
    "    dict_mae['xgb_mae_{}'.format(fold+1)] = val_mae\n",
    "    dict_mape['xgb_mape_{}'.format(fold+1)] = val_mape\n",
    "    print('xgb val_acc {}'.format(val_acc))\n",
    "\n",
    "    # cat\n",
    "    print('---正在训练CatBoostRegressor---')\n",
    "    catmodel = CatBoostRegressor(\n",
    "        iterations=3000, learning_rate=0.03,\n",
    "        depth=7,\n",
    "        l2_leaf_reg=4,\n",
    "        loss_function='MAE',\n",
    "        eval_metric='MAE',\n",
    "        random_seed=2021)\n",
    "    catmodel2 = catmodel.fit(x_tra, y_trn, verbose=False)\n",
    "    val_pred_cat = catmodel2.predict(x_val)\n",
    "    preds_cat += catmodel2.predict(test_x,) / folds\n",
    "    val_acc = Accuracy_metric(y_val, val_pred_cat)\n",
    "    val_mae = MAE_metric(y_val, val_pred_cat)\n",
    "    val_mape = MAPE_metric(y_val, val_pred_cat)\n",
    "    dict_acc['cat_acc_{}'.format(fold+1)] = val_acc\n",
    "    dict_mae['cat_mae_{}'.format(fold+1)] = val_mae\n",
    "    dict_mape['cat_mape_{}'.format(fold+1)] = val_mape\n",
    "    print('cat val_acc {}'.format(val_acc))\n",
    "\n",
    "    # lr\n",
    "    print('---正在训练LinearRegression---')\n",
    "    lrmodel = LinearRegression().fit(x_tra, y_trn)\n",
    "    val_pred_lr = lrmodel.predict(x_val)\n",
    "    val_acc = Accuracy_metric(y_val, val_pred_lr)\n",
    "    val_mae = MAE_metric(y_val, val_pred_lr)\n",
    "    val_mape = MAPE_metric(y_val, val_pred_lr)\n",
    "    dict_acc['lr_acc_{}'.format(fold+1)] = val_acc\n",
    "    dict_mae['lr_mae_{}'.format(fold+1)] = val_mae\n",
    "    dict_mape['lr_mape_{}'.format(fold+1)] = val_mape\n",
    "    print('lr val_acc {}'.format(val_acc))\n",
    "\n",
    "    # knn\n",
    "    print('---正在训练KNeighborsRegressor---')\n",
    "    knnmodel = KNeighborsRegressor(n_neighbors=8).fit(x_tra, y_trn)\n",
    "    val_pred_knn = knnmodel.predict(x_val)\n",
    "    val_acc = Accuracy_metric(y_val, val_pred_knn)\n",
    "    val_mae = MAE_metric(y_val, val_pred_knn)\n",
    "    val_mape = MAPE_metric(y_val, val_pred_knn)\n",
    "    dict_acc['knn_acc_{}'.format(fold+1)] = val_acc\n",
    "    dict_mae['knn_mae_{}'.format(fold+1)] = val_mae\n",
    "    dict_mape['knn_mape_{}'.format(fold+1)] = val_mape\n",
    "    print('knn val_acc {}'.format(val_acc))\n",
    "\n",
    "    # rf\n",
    "    print('---正在训练RandomForestRegressor---')\n",
    "    rfmodel = RandomForestRegressor(n_estimators=200).fit(x_tra, y_trn)\n",
    "    val_pred_rf = rfmodel.predict(x_val)\n",
    "    val_acc = Accuracy_metric(y_val, val_pred_rf)\n",
    "    val_mae = MAE_metric(y_val, val_pred_rf)\n",
    "    val_mape = MAPE_metric(y_val, val_pred_rf)\n",
    "    dict_acc['rf_acc_{}'.format(fold+1)] = val_acc\n",
    "    dict_mae['rf_mae_{}'.format(fold+1)] = val_mae\n",
    "    dict_mape['rf_mape_{}'.format(fold+1)] = val_mape\n",
    "    print('rf val_acc {}'.format(val_acc))\n",
    "    print('-'*20)"
   ]
  },
  {
   "cell_type": "markdown",
   "metadata": {},
   "source": [
    "## 2.2 多模型结果对比可视化"
   ]
  },
  {
   "cell_type": "code",
   "execution_count": 3,
   "metadata": {},
   "outputs": [],
   "source": [
    "import os\n",
    "# 存储训练结果的字典\n",
    "import pickle\n",
    "\n",
    "def save_dict(obj, name):\n",
    "    with open(name + '.pkl', 'wb') as f:\n",
    "        pickle.dump(obj, f, pickle.HIGHEST_PROTOCOL)\n",
    "def load_dict(name):\n",
    "    with open(name + '.pkl', 'rb') as f:\n",
    "        return pickle.load(f)\n",
    "features = 161\n",
    "dict_acc = load_dict(\"./data/dict_acc_{}\".format(features))\n",
    "dict_mae = load_dict(\"./data/dict_mae_{}\".format(features))\n",
    "dict_mape = load_dict(\"./data/dict_mape_{}\".format(features))\n",
    "dict_mae['lr_mae_5'] = 0.12960395775790178\n",
    "dict_acc['lr_acc_5'] = 0.6967119924001642\n",
    "dict_mape['lr_mape_5'] = 5.254548311158716\n"
   ]
  },
  {
   "cell_type": "code",
   "execution_count": 4,
   "metadata": {},
   "outputs": [],
   "source": [
    "\n",
    "val_acc_lr = []\n",
    "val_acc_knn = []\n",
    "val_acc_cat =[]\n",
    "val_acc_lgb = []\n",
    "val_acc_xgb = []\n",
    "\n",
    "val_mae_lr = []\n",
    "val_mae_knn = []\n",
    "val_mae_cat = []\n",
    "val_mae_lgb = []\n",
    "val_mae_xgb = []\n",
    "\n",
    "val_mape_lr = []\n",
    "val_mape_knn = []\n",
    "val_mape_cat = []\n",
    "val_mape_lgb = []\n",
    "val_mape_xgb = []\n",
    "for i in range(5):\n",
    "    val_acc_lr.append(dict_acc['lr_acc_{}'.format(i+1)])\n",
    "    val_acc_knn.append(dict_acc['knn_acc_{}'.format(i+1)])\n",
    "    val_acc_cat.append(dict_acc['cat_acc_{}'.format(i+1)])\n",
    "    val_acc_lgb.append(dict_acc['lgb_acc_{}'.format(i+1)])\n",
    "    val_acc_xgb.append(dict_acc['xgb_acc_{}'.format(i+1)])\n",
    "\n",
    "    val_mae_lr.append(dict_mae['lr_mae_{}'.format(i+1)])\n",
    "    val_mae_knn.append(dict_mae['knn_mae_{}'.format(i+1)])\n",
    "    val_mae_cat.append(dict_mae['cat_mae_{}'.format(i+1)])\n",
    "    val_mae_lgb.append(dict_mae['lgb_mae_{}'.format(i+1)])\n",
    "    val_mae_xgb.append(dict_mae['xgb_mae{}'.format(i+1)])\n",
    "\n",
    "    val_mape_lr.append(dict_mape['lr_mape_{}'.format(i+1)])\n",
    "    val_mape_knn.append(dict_mape['knn_mape_{}'.format(i+1)])\n",
    "    val_mape_cat.append(dict_mape['cat_mape_{}'.format(i+1)])\n",
    "    val_mape_lgb.append(dict_mape['lgb_mape_{}'.format(i+1)])\n",
    "    val_mape_xgb.append(dict_mape['xgb_mape_{}'.format(i+1)])"
   ]
  },
  {
   "cell_type": "code",
   "execution_count": 6,
   "metadata": {},
   "outputs": [
    {
     "data": {
      "image/png": "[encoded data removed]",
      "text/plain": [
       "<Figure size 1440x360 with 3 Axes>"
      ]
     },
     "metadata": {},
     "output_type": "display_data"
    }
   ],
   "source": [
    "import numpy as np\n",
    "import matplotlib.pyplot as plt\n",
    "plt.style.use('ggplot')\n",
    "plt.figure(figsize=(20, 5))\n",
    "plt.subplot(131)\n",
    "\n",
    "x = ['Fold1', 'Fold2', 'Fold3', 'Fold4', 'Fold5']\n",
    "plt.plot(x, val_acc_lr)\n",
    "plt.plot(x, val_acc_knn)\n",
    "plt.plot(x, val_acc_cat)\n",
    "plt.plot(x, val_acc_lgb)\n",
    "plt.plot(x, val_acc_xgb, \"#FF0000\")\n",
    "plt.xlabel(\"Fold\", fontsize=15)\n",
    "plt.ylabel(\"Acc\", fontsize=15)\n",
    "plt.legend(['LR', 'KNN', 'Cat', 'LGB', 'XGB'], loc=\"upper right\")\n",
    "plt.title(\"准确率\", fontsize=20)\n",
    "\n",
    "\n",
    "plt.subplot(132)\n",
    "plt.plot(x, val_mae_lr)\n",
    "plt.plot(x, val_mae_knn)\n",
    "plt.plot(x, val_mae_cat)\n",
    "plt.plot(x, val_mae_lgb)\n",
    "plt.plot(x, val_mae_xgb, \"#FF0000\")\n",
    "plt.xlabel(\"Fold\", fontsize=15)\n",
    "plt.ylabel(\"Mae\", fontsize=15)\n",
    "plt.legend(['LR', 'KNN', 'Cat', 'LGB', 'XGB'], loc=\"upper right\")\n",
    "plt.title(\"平均绝对误差\", fontsize=20)\n",
    "\n",
    "\n",
    "plt.subplot(133)\n",
    "plt.plot(x, val_mape_lr)\n",
    "plt.plot(x, val_mape_knn)\n",
    "plt.plot(x, val_mape_cat)\n",
    "plt.plot(x, val_mape_lgb)\n",
    "plt.plot(x, val_mape_xgb, \"#FF0000\")\n",
    "plt.xlabel(\"Fold\", fontsize=15)\n",
    "plt.ylabel(\"Mape\", fontsize=15)\n",
    "plt.legend(['LR', 'KNN', 'Cat', 'LGB', 'XGB'], loc=\"upper right\")\n",
    "plt.title(\"平均绝对百分比误差\", fontsize=20)\n",
    "plt.savefig('img/Q1-img/多模型对比.png', dpi=300)\n"
   ]
  },
  {
   "cell_type": "code",
   "execution_count": 22,
   "metadata": {},
   "outputs": [
    {
     "data": {
      "text/plain": [
       "[3.186677605862028,\n",
       " 4.259766216518742,\n",
       " 3.226554717502992,\n",
       " 3.2845624127292505,\n",
       " 3.2613602766123186]"
      ]
     },
     "execution_count": 22,
     "metadata": {},
     "output_type": "execute_result"
    }
   ],
   "source": [
    "val_mape_xgb\n",
    "# val_acc_knn.append(dict_acc['knn_acc_{}'.format(i+1)])\n",
    "# val_acc_cat.append(dict_acc['cat_acc_{}'.format(i+1)])\n",
    "# val_acc_lgb.append(dict_acc['lgb_acc_{}'.format(i+1)])\n",
    "# val_acc_xgb.append(dict_acc['xgb_acc_{}'.format(i+1)])\n",
    "\n",
    "# val_mae_lr.append(dict_mae['lr_mae_{}'.format(i+1)])\n",
    "# val_mae_knn.append(dict_mae['knn_mae_{}'.format(i+1)])\n",
    "# val_mae_cat.append(dict_mae['cat_mae_{}'.format(i+1)])\n",
    "# val_mae_lgb.append(dict_mae['lgb_mae_{}'.format(i+1)])\n",
    "# val_mae_xgb.append(dict_mae['xgb_mae{}'.format(i+1)])\n",
    "\n",
    "# val_mape_lr.append(dict_mape['lr_mape_{}'.format(i+1)])\n",
    "# val_mape_knn.append(dict_mape['knn_mape_{}'.format(i+1)])\n",
    "# val_mape_cat.append(dict_mape['cat_mape_{}'.format(i+1)])\n",
    "# val_mape_lgb.append(dict_mape['lgb_mape_{}'.format(i+1)])\n",
    "# val_mape_xgb.append(dict_mape['xgb_mape_{}'.format(i+1)])"
   ]
  },
  {
   "cell_type": "markdown",
   "metadata": {},
   "source": [
    "# 3 模型平均融合"
   ]
  },
  {
   "cell_type": "code",
   "execution_count": null,
   "metadata": {},
   "outputs": [],
   "source": [
    "submit_df = pd.DataFrame(columns=['price'])\n",
    "submit_df['price'] = (preds_xgb+preds_lgb+preds_cat)/3\n",
    "submit_df = submit_df.price.apply(np.expm1)  # np.log1p与np.expm1互为逆运算\n",
    "submit_df.to_csv('./data/估价模型结果.csv', header=0)"
   ]
  },
  {
   "cell_type": "markdown",
   "metadata": {},
   "source": [
    "# 4 多模型对比可视化"
   ]
  },
  {
   "cell_type": "code",
   "execution_count": 1,
   "metadata": {},
   "outputs": [],
   "source": [
    "import os\n",
    "# 存储训练结果的字典\n",
    "import pickle\n",
    "\n",
    "\n",
    "def save_dict(obj, name):\n",
    "    with open(name + '.pkl', 'wb') as f:\n",
    "        pickle.dump(obj, f, pickle.HIGHEST_PROTOCOL)\n",
    "\n",
    "\n",
    "def load_dict(name):\n",
    "    with open(name + '.pkl', 'rb') as f:\n",
    "        return pickle.load(f)\n",
    "\n",
    "# 读取字典\n",
    "dict_acc = load_dict(\"./data/dict_acc\")\n",
    "dict_mae = load_dict(\"./data/dict_mae\")\n",
    "dict_mape = load_dict(\"./data/dict_mape\")\n",
    "\n",
    "val_acc_lr = []\n",
    "val_acc_knn = []\n",
    "val_acc_cat = []\n",
    "val_acc_lgb = []\n",
    "val_acc_xgb = []\n",
    "\n",
    "val_mae_lr = []\n",
    "val_mae_knn = []\n",
    "val_mae_cat = []\n",
    "val_mae_lgb = []\n",
    "val_mae_xgb = []\n",
    "\n",
    "val_mape_lr = []\n",
    "val_mape_knn = []\n",
    "val_mape_cat = []\n",
    "val_mape_lgb = []\n",
    "val_mape_xgb = []\n",
    "for i in range(5):\n",
    "    val_acc_lr.append(dict_acc['lr_{}'.format(i+1)])\n",
    "    val_acc_knn.append(dict_acc['knn_{}'.format(i+1)])\n",
    "    val_acc_cat.append(dict_acc['cat_{}'.format(i+1)])\n",
    "    val_acc_lgb.append(dict_acc['lgb_{}'.format(i+1)])\n",
    "    val_acc_xgb.append(dict_acc['xgb_{}'.format(i+1)])\n",
    "\n",
    "    val_mae_lr.append(dict_acc['lr_{}'.format(i+1)])\n",
    "    val_mae_knn.append(dict_acc['knn_{}'.format(i+1)])\n",
    "    val_mae_cat.append(dict_acc['cat_{}'.format(i+1)])\n",
    "    val_mae_lgb.append(dict_acc['lgb_{}'.format(i+1)])\n",
    "    val_mae_xgb.append(dict_acc['xgb_{}'.format(i+1)])\n",
    "\n",
    "    val_mape_lr.append(dict_acc['lr_{}'.format(i+1)])\n",
    "    val_mape_knn.append(dict_acc['knn_{}'.format(i+1)])\n",
    "    val_mape_cat.append(dict_acc['cat_{}'.format(i+1)])\n",
    "    val_mape_lgb.append(dict_acc['lgb_{}'.format(i+1)])\n",
    "    val_mape_xgb.append(dict_acc['xgb_{}'.format(i+1)])"
   ]
  },
  {
   "cell_type": "code",
   "execution_count": 10,
   "metadata": {},
   "outputs": [
    {
     "data": {
      "text/plain": [
       "{'lgb_1': 0.8538503727459749,\n",
       " 'xgb_1': 0.8604951880352927,\n",
       " 'cat_1': 0.8535605697732419,\n",
       " 'lr_1': 0.7115465538381492,\n",
       " 'knn_1': 0.7279798926863539,\n",
       " 'rf_1': 0.8404296569604343,\n",
       " 'lgb_2': 0.8551878559391477,\n",
       " 'xgb_2': 0.8582605022924821,\n",
       " 'cat_2': 0.8508957358447833,\n",
       " 'lr_2': 0.7046879372824132,\n",
       " 'knn_2': 0.740957071340712,\n",
       " 'rf_2': 0.8332709629993695,\n",
       " 'lgb_3': 0.8526025527352463,\n",
       " 'xgb_3': 0.8549700348696154,\n",
       " 'cat_3': 0.8513295051295579,\n",
       " 'lr_3': 0.6967264209318988,\n",
       " 'knn_3': 0.7341562096570302,\n",
       " 'rf_3': 0.8342809474629476,\n",
       " 'lgb_4': 0.8530471003717748,\n",
       " 'xgb_4': 0.8611782258510648,\n",
       " 'cat_4': 0.8518527348221101,\n",
       " 'lr_4': 0.7032255321076033,\n",
       " 'knn_4': 0.7276375348963657,\n",
       " 'rf_4': 0.8324681397750748,\n",
       " 'lgb_5': 0.8566534475539025,\n",
       " 'xgb_5': 0.8568145425302572,\n",
       " 'cat_5': 0.8536539757591236,\n",
       " 'lr_5': 0.7032255321076033,\n",
       " 'knn_5': 0.7341050802417305,\n",
       " 'rf_5': 0.8378321611076207}"
      ]
     },
     "execution_count": 10,
     "metadata": {},
     "output_type": "execute_result"
    }
   ],
   "source": [
    "dict_acc"
   ]
  },
  {
   "cell_type": "code",
   "execution_count": 5,
   "metadata": {},
   "outputs": [
    {
     "data": {
      "text/plain": [
       "[0.8604951880352927,\n",
       " 0.8582605022924821,\n",
       " 0.8549700348696154,\n",
       " 0.8611782258510648,\n",
       " 0.8568145425302572]"
      ]
     },
     "execution_count": 5,
     "metadata": {},
     "output_type": "execute_result"
    }
   ],
   "source": [
    "val_mape_xgb"
   ]
  },
  {
   "cell_type": "code",
   "execution_count": 8,
   "metadata": {},
   "outputs": [
    {
     "data": {
      "text/plain": [
       "[0.8604951880352927,\n",
       " 0.8582605022924821,\n",
       " 0.8549700348696154,\n",
       " 0.8611782258510648,\n",
       " 0.8568145425302572]"
      ]
     },
     "execution_count": 8,
     "metadata": {},
     "output_type": "execute_result"
    }
   ],
   "source": [
    "val_mae_xgb"
   ]
  },
  {
   "cell_type": "code",
   "execution_count": 9,
   "metadata": {},
   "outputs": [
    {
     "data": {
      "text/plain": [
       "[0.8604951880352927,\n",
       " 0.8582605022924821,\n",
       " 0.8549700348696154,\n",
       " 0.8611782258510648,\n",
       " 0.8568145425302572]"
      ]
     },
     "execution_count": 9,
     "metadata": {},
     "output_type": "execute_result"
    }
   ],
   "source": [
    "val_acc_xgb"
   ]
  },
  {
   "cell_type": "code",
   "execution_count": 4,
   "metadata": {},
   "outputs": [
    {
     "data": {
      "image/png": "[encoded data removed]",
      "text/plain": [
       "<Figure size 1440x360 with 3 Axes>"
      ]
     },
     "metadata": {},
     "output_type": "display_data"
    }
   ],
   "source": [
    "import numpy as np \n",
    "import matplotlib.pyplot as plt \n",
    "plt.style.use('ggplot')\n",
    "plt.figure(figsize=(20,5)) \n",
    "plt.subplot(131)\n",
    "\n",
    "x=['Fold1','Fold2','Fold3','Fold4','Fold5']\n",
    "plt.plot(x, val_acc_lr)\n",
    "plt.plot(x, val_acc_knn)\n",
    "plt.plot(x, val_acc_cat)\n",
    "plt.plot(x, val_acc_lgb)\n",
    "plt.plot(x, val_acc_xgb, \"#FF0000\")\n",
    "plt.xlabel(\"Fold\",fontsize=15) \n",
    "plt.ylabel(\"Acc\",fontsize=15)\n",
    "plt.legend(['LR','KNN','Cat','LGB','XGB'],loc=\"upper right\")\n",
    "plt.title(\"准确率\",fontsize=20)\n",
    "\n",
    "\n",
    "\n",
    "plt.subplot(132)\n",
    "plt.plot(x, val_mae_lr)\n",
    "plt.plot(x, val_mae_knn)\n",
    "plt.plot(x, val_mae_cat)\n",
    "plt.plot(x, val_mae_lgb)\n",
    "plt.plot(x, val_mae_xgb, \"#FF0000\")\n",
    "plt.xlabel(\"Fold\",fontsize=15) \n",
    "plt.ylabel(\"Mae\",fontsize=15)\n",
    "plt.legend(['LR','KNN','Cat','LGB','XGB'],loc=\"upper right\")\n",
    "plt.title(\"平均绝对误差\",fontsize=20)\n",
    "\n",
    "\n",
    "plt.subplot(133)\n",
    "plt.plot(x, val_mape_lr)\n",
    "plt.plot(x, val_mape_knn)\n",
    "plt.plot(x, val_mape_cat)\n",
    "plt.plot(x, val_mape_lgb)\n",
    "plt.plot(x, val_mape_xgb, \"#FF0000\")\n",
    "plt.xlabel(\"Fold\",fontsize=15) \n",
    "plt.ylabel(\"Mape\",fontsize=15)\n",
    "plt.legend(['LR','KNN','Cat','LGB','XGB'],loc=\"upper right\")\n",
    "plt.title(\"平均绝对百分比误差\",fontsize=20)\n",
    "plt.savefig('img/Q1-img/多模型对比.png',dpi=300)"
   ]
  }
 ],
 "metadata": {
  "interpreter": {
   "hash": "2fc9f0689f2f32664301ce51aaed3853cc1802bb7b4d4a74b41993575fbadbc0"
  },
  "kernelspec": {
   "display_name": "Python 3.6.13 64-bit",
   "name": "python3"
  },
  "language_info": {
   "codemirror_mode": {
    "name": "ipython",
    "version": 3
   },
   "file_extension": ".py",
   "mimetype": "text/x-python",
   "name": "python",
   "nbconvert_exporter": "python",
   "pygments_lexer": "ipython3",
   "version": "3.8.5"
  },
  "orig_nbformat": 4
 },
 "nbformat": 4,
 "nbformat_minor": 2
}
